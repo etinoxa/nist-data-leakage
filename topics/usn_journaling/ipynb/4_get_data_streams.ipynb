{
 "cells": [
  {
   "cell_type": "code",
   "execution_count": 1,
   "id": "initial_id",
   "metadata": {
    "collapsed": true,
    "ExecuteTime": {
     "end_time": "2023-11-17T20:24:04.867470617Z",
     "start_time": "2023-11-17T20:24:04.850904347Z"
    }
   },
   "outputs": [],
   "source": [
    "dd_image_path = \"/home/etinoxa/Documents/VirtualStudio/nist-data-leakage/topics/windows_registry/files/image/cfreds_2015_data_leakage_pc.dd\"\n",
    "dd_image_offset = 206848\n",
    "search_pattern = \"gmreadme.txt\""
   ]
  },
  {
   "cell_type": "code",
   "execution_count": null,
   "outputs": [],
   "source": [
    "import argparse\n",
    "from get_entry import get_entry\n",
    "\n",
    "def get_data_streams(image_path, query):\n",
    "    \"\"\"\n",
    "    Retrieves data streams from a file within a disk image.\n",
    "\n",
    "    Args:\n",
    "    image_path (str): Path to the disk image.\n",
    "    query (str): Query to search for the file.\n",
    "\n",
    "    Returns:\n",
    "    list: A list of data streams in the file.\n",
    "    \"\"\"\n",
    "    try:\n",
    "        fs, result = get_entry(image_path, query, return_fs=True)\n",
    "    except Exception as e:\n",
    "        print(f\"Error accessing the file system: {e}\")\n",
    "        return []\n",
    "\n",
    "    if not result:\n",
    "        print(\"No file found for the given query.\")\n",
    "        return []\n",
    "\n",
    "    file = result[0][0]\n",
    "    file_path = result[0][1]\n",
    "    inode_number = file.info.meta.addr\n",
    "\n",
    "    return read_stream(file, inode_number, file_path)\n",
    "\n",
    "def read_stream(file, inode_number, file_path):\n",
    "    \"\"\"\n",
    "    Reads the data streams of a file.\n",
    "\n",
    "    Args:\n",
    "    file (File object): The file to read from.\n",
    "    inode_number (int): The inode number of the file.\n",
    "    file_path (str): The path of the file.\n",
    "\n",
    "    Returns:\n",
    "    list: Data streams from the file.\n",
    "    \"\"\"\n",
    "    streams = []\n",
    "    for attr in file:\n",
    "        if attr.info.name:\n",
    "            stream_name = attr.info.name.decode()\n",
    "            print(f\"{inode_number}-{attr.info.type}: {file_path}:{stream_name}\")\n",
    "            streams.append((stream_name, attr))\n",
    "    return streams\n",
    "\n",
    "def main():\n",
    " \n",
    "\n",
    "    streams = get_data_streams(dd_image_path, search_pattern)\n",
    "    if streams:\n",
    "        print(\"Data streams retrieved successfully.\")\n",
    "    else:\n",
    "        print(\"No data streams found.\")\n",
    "\n",
    "if __name__ == \"__main__\":\n",
    "    main()\n"
   ],
   "metadata": {
    "collapsed": false
   },
   "id": "32f46c21c73013a2"
  }
 ],
 "metadata": {
  "kernelspec": {
   "display_name": "Python 3",
   "language": "python",
   "name": "python3"
  },
  "language_info": {
   "codemirror_mode": {
    "name": "ipython",
    "version": 2
   },
   "file_extension": ".py",
   "mimetype": "text/x-python",
   "name": "python",
   "nbconvert_exporter": "python",
   "pygments_lexer": "ipython2",
   "version": "2.7.6"
  }
 },
 "nbformat": 4,
 "nbformat_minor": 5
}
