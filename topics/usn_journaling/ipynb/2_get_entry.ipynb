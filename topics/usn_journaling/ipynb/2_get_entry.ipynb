{
 "cells": [
  {
   "cell_type": "code",
   "execution_count": 2,
   "id": "initial_id",
   "metadata": {
    "collapsed": true,
    "ExecuteTime": {
     "end_time": "2023-11-15T13:56:56.007277238Z",
     "start_time": "2023-11-15T13:56:55.958845188Z"
    }
   },
   "outputs": [],
   "source": [
    "dd_image_path = \"/home/etinoxa/Documents/VirtualStudio/nist-data-leakage/topics/windows_registry/files/image/cfreds_2015_data_leakage_pc.dd\"\n",
    "dd_image_offset = 206848\n",
    "search_pattern = \"gmreadme.txt\""
   ]
  },
  {
   "cell_type": "code",
   "execution_count": null,
   "outputs": [],
   "source": [
    "import pytsk3\n",
    "import argparse\n",
    "\n",
    "# Define the image and the file pattern to search for\n",
    "# image_path = '../cfreds_2015_data_leakage_pc.dd'\n",
    "# search_pattern = 'gmreadme.txt'\n",
    "def get_entry(image_path, image_offset, search_pattern):\n",
    "    # Open the disk image\n",
    "    img = pytsk3.Img_Info(image_path)\n",
    "\n",
    "    # File system offset (assumed to be provided as in your command)\n",
    "    fs_offset = image_offset\n",
    "\n",
    "    # Open the file system\n",
    "    fs = pytsk3.FS_Info(img, offset=fs_offset*512)\n",
    "\n",
    "    # Define a recursive function to list files\n",
    "    def list_files(directory, path='/'):\n",
    "        for entry in directory:\n",
    "            # Skip \".\", \"..\" or directory entries without a name\n",
    "            if not entry.info.name or entry.info.name.name in [b\".\", b\"..\"]:\n",
    "                continue\n",
    "            try:\n",
    "                file_name = entry.info.name.name.decode('utf-8')\n",
    "                # print(file_name)\n",
    "                file_path = f\"{path}{file_name}\"\n",
    "                current_path = f\"{path}{entry.info.name.name.decode('utf-8')}\"\n",
    "\n",
    "                if entry.info.meta.type == pytsk3.TSK_FS_META_TYPE_DIR:\n",
    "                    # print(entry.info.name.name.decode('utf-8'))\n",
    "                    # print(current_path)\n",
    "                    sub_directory = pytsk3.Directory(fs, current_path)\n",
    "                    list_files(sub_directory, path=f\"{current_path}/\")\n",
    "                else:\n",
    "                    if search_pattern in file_name:\n",
    "                        print(f\"Found: {entry.info.meta.addr} | {file_path}\")\n",
    "            except Exception:\n",
    "                continue\n",
    "\n",
    "\n",
    "    # Start listing from the root directory\n",
    "    root_dir = fs.open_dir(path=\"/\")\n",
    "    list_files(root_dir)\n",
    "\n",
    "if __name__ == \"__main__\":\n",
    "    # Print result\n",
    "    get_entry(dd_image_path, dd_image_offset, search_pattern)\n"
   ],
   "metadata": {
    "collapsed": false
   },
   "id": "7bc75d97ce08cb25"
  }
 ],
 "metadata": {
  "kernelspec": {
   "display_name": "Python 3",
   "language": "python",
   "name": "python3"
  },
  "language_info": {
   "codemirror_mode": {
    "name": "ipython",
    "version": 2
   },
   "file_extension": ".py",
   "mimetype": "text/x-python",
   "name": "python",
   "nbconvert_exporter": "python",
   "pygments_lexer": "ipython2",
   "version": "2.7.6"
  }
 },
 "nbformat": 4,
 "nbformat_minor": 5
}
