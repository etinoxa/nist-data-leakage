{
 "cells": [
  {
   "cell_type": "code",
   "execution_count": 1,
   "id": "initial_id",
   "metadata": {
    "collapsed": true,
    "ExecuteTime": {
     "end_time": "2023-12-01T00:02:55.066527898Z",
     "start_time": "2023-12-01T00:02:55.060396536Z"
    }
   },
   "outputs": [],
   "source": [
    "dd_image_path = \"cfreds_2015_data_leakage_pc.dd\"\n",
    "inode_number = 59016\n",
    "stream_type = \"$Max\""
   ]
  },
  {
   "cell_type": "code",
   "execution_count": 3,
   "outputs": [
    {
     "ename": "ModuleNotFoundError",
     "evalue": "No module named 'hexdump'",
     "output_type": "error",
     "traceback": [
      "\u001B[0;31m---------------------------------------------------------------------------\u001B[0m",
      "\u001B[0;31mModuleNotFoundError\u001B[0m                       Traceback (most recent call last)",
      "Cell \u001B[0;32mIn[3], line 2\u001B[0m\n\u001B[1;32m      1\u001B[0m \u001B[38;5;28;01mimport\u001B[39;00m \u001B[38;5;21;01mpytsk3\u001B[39;00m\n\u001B[0;32m----> 2\u001B[0m \u001B[38;5;28;01mimport\u001B[39;00m \u001B[38;5;21;01mhexdump\u001B[39;00m\n\u001B[1;32m      3\u001B[0m \u001B[38;5;28;01mimport\u001B[39;00m \u001B[38;5;21;01margparse\u001B[39;00m\n\u001B[1;32m      5\u001B[0m \u001B[38;5;66;03m# Stream name = $J or $Max\u001B[39;00m\n",
      "\u001B[0;31mModuleNotFoundError\u001B[0m: No module named 'hexdump'"
     ]
    }
   ],
   "source": [
    "import pytsk3\n",
    "import hexdump\n",
    "import argparse\n",
    "\n",
    "# Stream name = $J or $Max\n",
    "def get_file_by_inode(image_path, inode, stream_name, offset_multiplier=206848):\n",
    "    offset = offset_multiplier * 512\n",
    "    try:\n",
    "        # Open the disk image\n",
    "        img = pytsk3.Img_Info(image_path)\n",
    "        print(f\"Opened image: {image_path}\")\n",
    "\n",
    "        # Open the file system\n",
    "        fs = pytsk3.FS_Info(img, offset=offset)\n",
    "        print(\"File system opened.\")\n",
    "\n",
    "        # Open the file by its inode\n",
    "        f = fs.open_meta(inode=inode)\n",
    "        print(f\"Opened file with inode: {inode}\")\n",
    "\n",
    "        for attribute in f:\n",
    "            if attribute.info.name and attribute.info.name.decode() == stream_name:\n",
    "                print(f\"Reading data stream: {stream_name}\")\n",
    "                print(attribute.info.name)\n",
    "                print(attribute.info.size)\n",
    "\n",
    "                # Read the content of the file\n",
    "                offset = 0\n",
    "                size = attribute.info.size\n",
    "                print(f\"File size: {size} bytes\")\n",
    "                while offset < size:\n",
    "                    available_to_read = min(1024, size - offset)\n",
    "                    file_data = f.read_random(offset, available_to_read)\n",
    "                    if not file_data:\n",
    "                        break\n",
    "                    hexdump.hexdump(file_data)\n",
    "                    offset += len(file_data)\n",
    "\n",
    "    except IOError as e:\n",
    "        print(f\"IOError: {e}\")\n",
    "    except ValueError as e:\n",
    "        print(f\"ValueError: {e}\")\n",
    "    except Exception as e:\n",
    "        print(f\"An unexpected error occurred: {e}\")\n",
    "\n",
    "def main():\n",
    "    # args = parse_arguments()\n",
    "    get_file_by_inode(dd_image_path, inode_number, stream_type)\n",
    "\n",
    "if __name__ == \"__main__\":\n",
    "    main()\n"
   ],
   "metadata": {
    "collapsed": false,
    "ExecuteTime": {
     "end_time": "2023-12-01T00:04:26.548103589Z",
     "start_time": "2023-12-01T00:04:26.436631253Z"
    }
   },
   "id": "19b26c0d01bd61fe"
  }
 ],
 "metadata": {
  "kernelspec": {
   "display_name": "Python 3",
   "language": "python",
   "name": "python3"
  },
  "language_info": {
   "codemirror_mode": {
    "name": "ipython",
    "version": 2
   },
   "file_extension": ".py",
   "mimetype": "text/x-python",
   "name": "python",
   "nbconvert_exporter": "python",
   "pygments_lexer": "ipython2",
   "version": "2.7.6"
  }
 },
 "nbformat": 4,
 "nbformat_minor": 5
}
