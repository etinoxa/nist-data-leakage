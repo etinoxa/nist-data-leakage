{
 "cells": [
  {
   "cell_type": "code",
   "execution_count": 2,
   "id": "initial_id",
   "metadata": {
    "collapsed": true,
    "ExecuteTime": {
     "end_time": "2023-11-27T18:16:50.777951144Z",
     "start_time": "2023-11-27T18:16:50.650575032Z"
    }
   },
   "outputs": [],
   "source": [
    "ntuser_informant_registry = \"NTUSER_Informant.DAT\""
   ]
  },
  {
   "cell_type": "code",
   "execution_count": 3,
   "outputs": [
    {
     "name": "stdout",
     "output_type": "stream",
     "text": [
      "Name: a, Data: cmd\\1\n",
      "Name: MRUList, Data: ba\n",
      "Name: b, Data: \\\\10.11.11.128\\secured_drive\\1\n"
     ]
    }
   ],
   "source": [
    "from regipy import RegistryHive, exceptions\n",
    "import argparse\n",
    "\n",
    "\n",
    "# hive_path = \"../../topics/windows_registry/files/registry/NTUSER_Informant.DAT\"\n",
    "def get_runmru(hive_path):\n",
    "    # Initialize the Registry Hive object\n",
    "    registry_hive = RegistryHive(hive_path)\n",
    "\n",
    "    # The RunMRU key path within the NTUSER.DAT hive\n",
    "    key_path = r'\\Software\\Microsoft\\Windows\\CurrentVersion\\Explorer\\RunMRU'\n",
    "\n",
    "    try:\n",
    "        # Attempt to get the RunMRU key from the hive\n",
    "        key = registry_hive.get_key(key_path)\n",
    "\n",
    "        # Iterate over all values within the RunMRU key and print them\n",
    "        for value in key.iter_values():\n",
    "            # Each value is a named tuple, so you can access its name and data properties\n",
    "            print(f\"Name: {value.name}, Data: {value.value}\")\n",
    "\n",
    "    except exceptions.RegistryKeyNotFoundException:\n",
    "        # Handle the case where the RunMRU key does not exist\n",
    "        print(f\"The key path {key_path} was not found in the registry hive.\")\n",
    "    except Exception as e:\n",
    "        # Handle any other unexpected exceptions\n",
    "        print(f\"An unexpected error occurred: {e}\")\n",
    "\n",
    "\n",
    "if __name__ == \"__main__\":\n",
    "    # Print content of RunMRU\n",
    "    get_runmru(ntuser_informant_registry)"
   ],
   "metadata": {
    "collapsed": false,
    "ExecuteTime": {
     "end_time": "2023-11-27T18:17:05.854553784Z",
     "start_time": "2023-11-27T18:17:05.654206569Z"
    }
   },
   "id": "c68b6a03b120fb39"
  }
 ],
 "metadata": {
  "kernelspec": {
   "display_name": "Python 3",
   "language": "python",
   "name": "python3"
  },
  "language_info": {
   "codemirror_mode": {
    "name": "ipython",
    "version": 2
   },
   "file_extension": ".py",
   "mimetype": "text/x-python",
   "name": "python",
   "nbconvert_exporter": "python",
   "pygments_lexer": "ipython2",
   "version": "2.7.6"
  }
 },
 "nbformat": 4,
 "nbformat_minor": 5
}
