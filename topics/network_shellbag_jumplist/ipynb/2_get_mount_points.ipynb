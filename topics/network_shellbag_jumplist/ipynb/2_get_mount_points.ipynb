{
 "cells": [
  {
   "cell_type": "code",
   "execution_count": 1,
   "id": "initial_id",
   "metadata": {
    "collapsed": true,
    "ExecuteTime": {
     "end_time": "2023-11-27T18:23:38.882886239Z",
     "start_time": "2023-11-27T18:23:38.882034547Z"
    }
   },
   "outputs": [],
   "source": [
    "ntuser_informant_registry = \"NTUSER_Informant.DAT\""
   ]
  },
  {
   "cell_type": "code",
   "execution_count": 2,
   "outputs": [
    {
     "name": "stdout",
     "output_type": "stream",
     "text": [
      "##10.11.11.128#secured_drive\n",
      "CPC\n",
      "{662626a6-d181-11e4-9591-000c29ff2429}\n",
      "{a2f2048e-d228-11e4-b630-000c29ff2429}\n",
      "{c9a1c041-d2d7-11e4-9dae-806e6f6e6963}\n",
      "{c9a1c044-d2d7-11e4-9dae-806e6f6e6963}\n"
     ]
    }
   ],
   "source": [
    "from regipy import RegistryHive\n",
    "\n",
    "\n",
    "# hive_path = \"../../topics/windows_registry/files/registry/NTUSER_Informant.DAT\"\n",
    "def read_registry_key(hive_path):\n",
    "    try:\n",
    "        key_path = r'\\Software\\Microsoft\\Windows\\CurrentVersion\\Explorer\\MountPoints2'\n",
    "        registry_hive = RegistryHive(hive_path)\n",
    "        key = registry_hive.get_key(key_path)\n",
    "        for subkey in key.iter_subkeys():\n",
    "            print(subkey.name)\n",
    "    except FileNotFoundError:\n",
    "        print(f\"The file at {hive_path} was not found.\")\n",
    "    except Exception as e:\n",
    "        print(f\"An error occurred: {e}\")\n",
    "\n",
    "def main():\n",
    "\n",
    "    read_registry_key(ntuser_informant_registry)\n",
    "\n",
    "if __name__ == '__main__':\n",
    "    main()\n"
   ],
   "metadata": {
    "collapsed": false,
    "ExecuteTime": {
     "end_time": "2023-11-27T18:23:41.742080824Z",
     "start_time": "2023-11-27T18:23:41.573052096Z"
    }
   },
   "id": "41cd5faeda6a86fd"
  }
 ],
 "metadata": {
  "kernelspec": {
   "display_name": "Python 3",
   "language": "python",
   "name": "python3"
  },
  "language_info": {
   "codemirror_mode": {
    "name": "ipython",
    "version": 2
   },
   "file_extension": ".py",
   "mimetype": "text/x-python",
   "name": "python",
   "nbconvert_exporter": "python",
   "pygments_lexer": "ipython2",
   "version": "2.7.6"
  }
 },
 "nbformat": 4,
 "nbformat_minor": 5
}
