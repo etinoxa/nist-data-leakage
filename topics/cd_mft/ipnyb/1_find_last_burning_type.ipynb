{
 "cells": [
  {
   "cell_type": "code",
   "execution_count": 4,
   "id": "initial_id",
   "metadata": {
    "collapsed": true,
    "ExecuteTime": {
     "end_time": "2023-12-13T14:13:44.548178025Z",
     "start_time": "2023-12-13T14:13:44.481608851Z"
    }
   },
   "outputs": [],
   "source": [
    "ntuser_informant_registry = \"/home/etinoxa/PycharmProjects/forensic-lab/topics/files/registry/NTUSER_Informant.DAT\""
   ]
  },
  {
   "cell_type": "code",
   "execution_count": 5,
   "outputs": [
    {
     "name": "stdout",
     "output_type": "stream",
     "text": [
      "Last Write Time: 2015-03-24 20:53:16.668584\n",
      "Name: CD Recorder Drive, Data: \\\\?\\Volume{c9a1c044-d2d7-11e4-9dae-806e6f6e6963}\\\n",
      "Name: DriveIndex, Data: 3\n",
      "Name: DefaultToMastered, Data: 0\n",
      "Name: Auto Close Wizard, Data: 0\n"
     ]
    }
   ],
   "source": [
    "from regipy import RegistryHive, exceptions\n",
    "import argparse\n",
    "from datetime import datetime, timedelta\n",
    "\n",
    "# Prints content of registry (NTUSER_Informant.DAT).\n",
    "\n",
    "def filetime_to_dt(filetime):\n",
    "    \"\"\"\n",
    "    Convert Windows FILETIME to datetime.\n",
    "    Windows FILETIME is the number of 100-nanosecond intervals since January 1, 1601 (UTC).\n",
    "    \"\"\"\n",
    "    # FILETIME epoch in Unix timestamp\n",
    "    filetime_epoch = datetime(1601, 1, 1)\n",
    "\n",
    "    # Convert the FILETIME value to a timedelta and add it to the FILETIME epoch\n",
    "    return filetime_epoch + timedelta(microseconds=filetime // 10)\n",
    "\n",
    "\n",
    "# hive_path = \"../../topics/windows_registry/files/registry/NTUSER_Informant.DAT\"\n",
    "def get_runmru(hive_path, key_path):\n",
    "    # Initialize the Registry Hive object\n",
    "    registry_hive = RegistryHive(hive_path)\n",
    "\n",
    "    # The key path within the NTUSER.DAT hive\n",
    "    # key_path = r'\\Software\\Microsoft\\Windows\\CurrentVersion\\Explorer\\CD Burning'\n",
    "\n",
    "    try:\n",
    "        # Attempt to get the key from the hive\n",
    "        key = registry_hive.get_key(key_path)\n",
    "\n",
    "        # Convert the last write time to a datetime object\n",
    "        last_write_time = filetime_to_dt(key.header.last_modified)\n",
    "        print(f\"Last Write Time: {last_write_time}\")\n",
    "\n",
    "        # Iterate over all values within the key and print them\n",
    "        for value in key.iter_values():\n",
    "            # Each value is a named tuple, so you can access its name and data properties\n",
    "            print(f\"Name: {value.name}, Data: {value.value}\")\n",
    "\n",
    "    except exceptions.RegistryKeyNotFoundException:\n",
    "        # Handle the case where the key does not exist\n",
    "        print(f\"The key path {key_path} was not found in the registry hive.\")\n",
    "    except Exception as e:\n",
    "        # Handle any other unexpected exceptions\n",
    "        print(f\"An unexpected error occurred: {e}\")\n",
    "\n",
    "\n",
    "if __name__ == \"__main__\":\n",
    "\n",
    "\n",
    "    # Print content of RunMRU\n",
    "    get_runmru(ntuser_informant_registry, \"\\Software\\Microsoft\\Windows\\CurrentVersion\\Explorer\\CD Burning\")"
   ],
   "metadata": {
    "collapsed": false,
    "ExecuteTime": {
     "end_time": "2023-12-13T14:13:47.444830508Z",
     "start_time": "2023-12-13T14:13:47.317973794Z"
    }
   },
   "id": "fc4a53c31381f9c1"
  }
 ],
 "metadata": {
  "kernelspec": {
   "display_name": "Python 3",
   "language": "python",
   "name": "python3"
  },
  "language_info": {
   "codemirror_mode": {
    "name": "ipython",
    "version": 2
   },
   "file_extension": ".py",
   "mimetype": "text/x-python",
   "name": "python",
   "nbconvert_exporter": "python",
   "pygments_lexer": "ipython2",
   "version": "2.7.6"
  }
 },
 "nbformat": 4,
 "nbformat_minor": 5
}
