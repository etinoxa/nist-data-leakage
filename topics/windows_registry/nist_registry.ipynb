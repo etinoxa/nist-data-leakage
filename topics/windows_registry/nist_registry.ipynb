{
 "cells": [
  {
   "cell_type": "code",
   "execution_count": 1,
   "id": "fbe542d92a6a7afb",
   "metadata": {
    "ExecuteTime": {
     "end_time": "2023-10-29T00:34:32.653282344Z",
     "start_time": "2023-10-29T00:34:32.606440870Z"
    },
    "collapsed": false
   },
   "outputs": [],
   "source": [
    "dd_image_path = \"/home/etinoxa/PycharmProjects/forensic-lab/cfreds_2015_data_leakage_pc.dd\"\n",
    "dd_image_offset = 206848\n",
    "software_registry_path = \"/home/etinoxa/PycharmProjects/forensic-lab/working_files/registry/SOFTWARE\"\n",
    "system_registry_path = \"/home/etinoxa/PycharmProjects/forensic-lab/working_files/registry/SYSTEM\""
   ]
  },
  {
   "cell_type": "code",
   "execution_count": 3,
   "id": "initial_id",
   "metadata": {
    "collapsed": true
   },
   "outputs": [
    {
     "name": "stdout",
     "output_type": "stream",
     "text": [
      "MD5 Hash: c256cf70f249e45b6152c4fa5a6ff123\n",
      "SHA-256 Hash: 4dfc34e7ed89aaf53c7ac131fdb44052b2116a970e13c0e0e7ff5a20f14459cc\n"
     ]
    }
   ],
   "source": [
    "import hashlib\n",
    "import sys\n",
    "# Calculate MD% and SHA 256 hash the imgae\n",
    "\n",
    "\n",
    "def calculate_md5(file_path):\n",
    "    \"\"\"\n",
    "    Calculate the MD5 hash of a file.\n",
    "\n",
    "    :param file_path: Path to the file.\n",
    "    :return: MD5 hash as a hexadecimal string.\n",
    "    \"\"\"\n",
    "    md5_hash = hashlib.md5()\n",
    "    with open(file_path, \"rb\") as file:\n",
    "        while True:\n",
    "            data = file.read(4096)  # Read the file in chunks of 4KB\n",
    "            if not data:\n",
    "                break\n",
    "            md5_hash.update(data)\n",
    "    return md5_hash.hexdigest()\n",
    "\n",
    "\n",
    "def calculate_sha256(file_path):\n",
    "    \"\"\"\n",
    "    Calculate the SHA-256 hash of a file.\n",
    "\n",
    "    :param file_path: Path to the file.\n",
    "    :return: SHA-256 hash as a hexadecimal string.\n",
    "    \"\"\"\n",
    "    sha256_hash = hashlib.sha256()\n",
    "    with open(file_path, \"rb\") as file:\n",
    "        while True:\n",
    "            data = file.read(4096)  # Read the file in chunks of 4KB\n",
    "            if not data:\n",
    "                break\n",
    "            sha256_hash.update(data)\n",
    "    return sha256_hash.hexdigest()\n",
    "\n",
    "\n",
    "if __name__ == \"__main__\":\n",
    "    if len(sys.argv) != 2:\n",
    "        print(\"Usage: python 1_calculate_md5_sha.py <file_path>\")\n",
    "        sys.exit(1)\n",
    "\n",
    "    file_path = dd_image_path\n",
    "\n",
    "    try:\n",
    "        md5_hash = calculate_md5(file_path)\n",
    "        sha256_hash = calculate_sha256(file_path)\n",
    "\n",
    "        print(f\"MD5 Hash: {md5_hash}\")\n",
    "        print(f\"SHA-256 Hash: {sha256_hash}\")\n",
    "    except FileNotFoundError:\n",
    "        print(\"File not found.\")\n"
   ]
  },
  {
   "cell_type": "code",
   "execution_count": 34,
   "id": "205d01d82281804f",
   "metadata": {
    "ExecuteTime": {
     "end_time": "2023-10-26T21:06:36.893110488Z",
     "start_time": "2023-10-26T21:01:16.102638388Z"
    },
    "collapsed": false
   },
   "outputs": [
    {
     "name": "stdout",
     "output_type": "stream",
     "text": [
      "MD5 Hash: c256cf70f249e45b6152c4fa5a6ff123\n",
      "SHA-256 Hash: 4dfc34e7ed89aaf53c7ac131fdb44052b2116a970e13c0e0e7ff5a20f14459cc\n"
     ]
    }
   ],
   "source": [
    "file_path = dd_image_path\n",
    "md5_hash = calculate_md5(file_path)\n",
    "sha256_hash = calculate_sha256(file_path)\n",
    "print(f\"MD5 Hash: {md5_hash}\")\n",
    "print(f\"SHA-256 Hash: {sha256_hash}\")"
   ]
  },
  {
   "cell_type": "code",
   "execution_count": 6,
   "id": "71d3446aa05098a4",
   "metadata": {
    "ExecuteTime": {
     "end_time": "2023-10-27T16:00:59.346454641Z",
     "start_time": "2023-10-27T16:00:59.301872732Z"
    },
    "collapsed": false
   },
   "outputs": [
    {
     "name": "stdout",
     "output_type": "stream",
     "text": [
      "Partition: 0\n",
      "Description: b'Primary Table (#0)'\n",
      "Start sector: 0\n",
      "Length: 1\n",
      "\n",
      "Partition: 1\n",
      "Description: b'Unallocated'\n",
      "Start sector: 0\n",
      "Length: 2048\n",
      "\n",
      "Partition: 2\n",
      "Description: b'NTFS / exFAT (0x07)'\n",
      "Start sector: 2048\n",
      "Length: 204800\n",
      "\n",
      "Partition: 3\n",
      "Description: b'NTFS / exFAT (0x07)'\n",
      "Start sector: 206848\n",
      "Length: 41734144\n",
      "\n",
      "Partition: 4\n",
      "Description: b'Unallocated'\n",
      "Start sector: 41940992\n",
      "Length: 2048\n"
     ]
    }
   ],
   "source": [
    "import sys\n",
    "import pytsk3\n",
    "\n",
    "# \n",
    "# Get the name of the disk image from command line argument\n",
    "# image_filename = sys.argv[1]\n",
    "\n",
    "\n",
    "image_filename = dd_image_path\n",
    "\n",
    "# Create an Img_Info object to represent the image file\n",
    "disk_image = pytsk3.Img_Info(image_filename)\n",
    "\n",
    "# Create a Volume_Info object to access the partitions\n",
    "volume_info = pytsk3.Volume_Info(disk_image)\n",
    "\n",
    "# Loop through each partition and print its attributes\n",
    "for partition in volume_info:\n",
    "    print(\"Partition:\", partition.addr)\n",
    "    print(\"Description:\", partition.desc)\n",
    "    print(\"Start sector:\", partition.start)\n",
    "    print(\"Length:\", partition.len)\n",
    "    print()"
   ]
  },
  {
   "cell_type": "code",
   "execution_count": null,
   "id": "b643b969f5f164d2",
   "metadata": {
    "collapsed": false
   },
   "outputs": [],
   "source": [
    "import argparse\n",
    "import pytsk3\n",
    "\n",
    "# Get Sectors of all partitions in the disk image\n",
    "\n",
    "def list_unallocated_space(image_path):\n",
    "    # Open the disk image\n",
    "    img_info = pytsk3.Img_Info(image_path)\n",
    "\n",
    "    # Open the volume system\n",
    "    vol_info = pytsk3.Volume_Info(img_info)\n",
    "\n",
    "    # Print partition table header\n",
    "    print(\"Slot      Start        End          Length       Description\")\n",
    "\n",
    "    # Iterate through the partitions\n",
    "    for part in vol_info:\n",
    "        start = part.start\n",
    "        end = start + part.len - 1\n",
    "        length = part.len\n",
    "        description = part.desc\n",
    "\n",
    "        print(f\"{part.addr:4}  {start:12}  {end:12}  {length:12}  {description}\")\n",
    "\n",
    "\n",
    "if __name__ == \"__main__\":\n",
    "    # Set up command-line argument parsing\n",
    "    parser = argparse.ArgumentParser(description=\"List unallocated space on a disk.\")\n",
    "    parser.add_argument(\"image_path\", help=\"Path to the disk image file.\")\n",
    "\n",
    "    # Parse the arguments\n",
    "    args = parser.parse_args()\n",
    "\n",
    "    # List unallocated space\n",
    "    list_unallocated_space(args.image_path)\n"
   ]
  },
  {
   "cell_type": "code",
   "execution_count": 5,
   "id": "1426eacaf3df2d33",
   "metadata": {
    "ExecuteTime": {
     "end_time": "2023-10-27T16:00:10.392043856Z",
     "start_time": "2023-10-27T16:00:10.365408444Z"
    },
    "collapsed": false
   },
   "outputs": [
    {
     "name": "stdout",
     "output_type": "stream",
     "text": [
      "Slot      Start        End          Length       Description\n",
      "   0             0             0             1  b'Primary Table (#0)'\n",
      "   1             0          2047          2048  b'Unallocated'\n",
      "   2          2048        206847        204800  b'NTFS / exFAT (0x07)'\n",
      "   3        206848      41940991      41734144  b'NTFS / exFAT (0x07)'\n",
      "   4      41940992      41943039          2048  b'Unallocated'\n"
     ]
    }
   ],
   "source": [
    "list_unallocated_space(dd_image_path)"
   ]
  },
  {
   "cell_type": "code",
   "execution_count": 11,
   "id": "3aea2e1d7fe06b4a",
   "metadata": {
    "ExecuteTime": {
     "end_time": "2023-10-29T01:20:05.493252780Z",
     "start_time": "2023-10-29T01:20:05.427547868Z"
    },
    "collapsed": false
   },
   "outputs": [
    {
     "name": "stdout",
     "output_type": "stream",
     "text": [
      "\n",
      "FILE SYSTEM INFORMATION\n",
      "file_system_type: NTFS    \n",
      "oem_name: \u0000Hz\fʍ\f\u0000\u0000\n",
      "version: \u0000\u00003м\n",
      "\n",
      "METADATA INFORMATION\n",
      "first_cluster_of_mft: 786432\n",
      "first_cluster_of_mft_mirror: 2\n",
      "size_of_mft_entries: 246\n",
      "size_of_index_records: 1\n",
      "mft_range: 0 - 193462272\n",
      "root_directory: 1718099487\n",
      "\n",
      "CONTENT INFORMATION\n",
      "sector_size: 512\n",
      "cluster_size: 8\n",
      "total_cluster_range: 0 - 26845303\n",
      "total_sector_range: 0 - 13744795895\n"
     ]
    }
   ],
   "source": [
    "import struct\n",
    "import sys\n",
    "\n",
    "# Execution: python3 partition_info.py ../cfreds_2015_data_leakage_pc.dd 206848\n",
    "\n",
    "def read_sector(image_file, offset, sector_size):\n",
    "    image_file.seek(offset * sector_size)\n",
    "    return image_file.read(sector_size)\n",
    "\n",
    "def parse_boot_sector(sector_data):\n",
    "    # Extract file system information\n",
    "    file_system_type = sector_data[3:11].decode(\"utf-8\", errors=\"ignore\")\n",
    "    oem_name = sector_data[71:82].decode(\"utf-8\", errors=\"ignore\")\n",
    "    version = sector_data[82:90].decode(\"utf-8\", errors=\"ignore\")\n",
    "\n",
    "    # Extract metadata information\n",
    "    first_cluster_of_mft, first_cluster_of_mft_mirror = struct.unpack(\"<QQ\", sector_data[48:64])\n",
    "    size_of_mft_entries, size_of_index_records = struct.unpack(\"<II\", sector_data[64:72])\n",
    "    mft_range = \"0 - \" + str(first_cluster_of_mft * size_of_mft_entries)\n",
    "    root_directory = struct.unpack(\"<I\", sector_data[96:100])[0]\n",
    "\n",
    "    # Extract content information\n",
    "    sector_size, cluster_size = struct.unpack(\"<HH\", sector_data[11:15])\n",
    "    total_cluster_range = \"0 - \" + str(int(((root_directory * cluster_size) / sector_size) - 1))\n",
    "    total_sector_range = \"0 - \" + str(int((root_directory * cluster_size) - 1))\n",
    "\n",
    "    return {\n",
    "        \"\\nFILE SYSTEM INFORMATION\": {\n",
    "            \"file_system_type\": file_system_type,\n",
    "            \"oem_name\": oem_name,\n",
    "            \"version\": version,\n",
    "        },\n",
    "        \"\\nMETADATA INFORMATION\": {\n",
    "            \"first_cluster_of_mft\": first_cluster_of_mft,\n",
    "            \"first_cluster_of_mft_mirror\": first_cluster_of_mft_mirror,\n",
    "            \"size_of_mft_entries\": size_of_mft_entries,\n",
    "            \"size_of_index_records\": size_of_index_records,\n",
    "            \"mft_range\": mft_range,\n",
    "            \"root_directory\": root_directory,\n",
    "        },\n",
    "        \"\\nCONTENT INFORMATION\": {\n",
    "            \"sector_size\": sector_size,\n",
    "            \"cluster_size\": cluster_size,\n",
    "            \"total_cluster_range\": total_cluster_range,\n",
    "            \"total_sector_range\": total_sector_range,\n",
    "        },\n",
    "    }\n",
    "\n",
    "if __name__ == \"__main__\":\n",
    "    if len(sys.argv) != 3:\n",
    "        print(\"Usage: python partition_details.py <image_file> <offset>\")\n",
    "        sys.exit(1)\n",
    "\n",
    "    image_file_path = dd_image_path\n",
    "    offset = dd_image_offset\n",
    "    sector_size = 512\n",
    "\n",
    "    try:\n",
    "        with open(image_file_path, \"rb\") as image_file:\n",
    "            sector_data = read_sector(image_file, offset, sector_size)\n",
    "            partition_details = parse_boot_sector(sector_data)\n",
    "\n",
    "            # Display partition details\n",
    "            for section, details in partition_details.items():\n",
    "                print(section)\n",
    "                for key, value in details.items():\n",
    "                    print(f\"{key}: {value}\")\n",
    "\n",
    "    except FileNotFoundError:\n",
    "        print(\"Image file not found.\")\n",
    "    except Exception as e:\n",
    "        print(f\"An error occurred: {str(e)}\")\n"
   ]
  },
  {
   "cell_type": "code",
   "execution_count": 40,
   "id": "15262ee81eb09a76",
   "metadata": {
    "ExecuteTime": {
     "end_time": "2023-10-28T23:51:04.838522490Z",
     "start_time": "2023-10-28T23:51:04.643226772Z"
    },
    "collapsed": false
   },
   "outputs": [
    {
     "name": "stdout",
     "output_type": "stream",
     "text": [
      "Partition files:\n",
      "Program Files (x86)\n",
      "Users\n",
      "$AttrDef\n",
      "$BadClus\n",
      "$Bitmap\n",
      "$Boot\n",
      "$Extend\n",
      "$LogFile\n",
      "$MFT\n",
      "$MFTMirr\n",
      "$Recycle.Bin\n",
      "$Secure\n",
      "$UpCase\n",
      "$Volume\n",
      ".\n",
      "Config.Msi\n",
      "Documents and Settings\n",
      "hiberfil.sys\n",
      "MSOCache\n",
      "pagefile.sys\n",
      "PerfLogs\n",
      "Program Files\n",
      "WIMECB2.tmp\n",
      "WIMECC3.tmp\n",
      "WIMECF3.tmp\n",
      "WIMECF4.tmp\n",
      "WIMED24.tmp\n",
      "WIMED63.tmp\n",
      "WIMF282.tmp\n",
      "WIMF283.tmp\n",
      "WIMF2A4.tmp\n",
      "WIMF2A5.tmp\n",
      "WIMF2A6.tmp\n",
      "Windows\n",
      "WinPEpge.sys\n",
      "ProgramData\n",
      "Recovery\n",
      "System Volume Information\n",
      "WIMF32B.tmp\n",
      "WIMF33C.tmp\n",
      "WIMF5BD.tmp\n",
      "WIMF5BE.tmp\n",
      "WIMF5BF.tmp\n",
      "WIMF5C0.tmp\n",
      "WIMF5C1.tmp\n",
      "WIMF5D1.tmp\n",
      "WIMF5D2.tmp\n",
      "WIMF5D3.tmp\n",
      "WIMF5D4.tmp\n",
      "WIMF5D5.tmp\n",
      "WIMF5D6.tmp\n",
      "WIMF5D7.tmp\n",
      "WIMF913.tmp\n",
      "WIMF914.tmp\n",
      "WIMFA8B.tmp\n",
      "WIMFA8C.tmp\n",
      "WinPEpge.sys\n",
      "Config.Msi\n",
      "$OrphanFiles\n"
     ]
    }
   ],
   "source": [
    "import argparse\n",
    "import pytsk3\n",
    "\n",
    "# List all files in partition\n",
    "\n",
    "def list_files_in_partition(image_path, offset):\n",
    "    try:\n",
    "        # Open the disk image\n",
    "        img_info = pytsk3.Img_Info(image_path)\n",
    "\n",
    "        # Open the file system at the specified partition offset\n",
    "        fs_info = pytsk3.FS_Info(img_info, offset=offset * 512)\n",
    "\n",
    "        # Get the root directory\n",
    "        root_directory = fs_info.open_dir(path=\"/\")\n",
    "\n",
    "        # Initialize a list to store file names\n",
    "        partition_files = []\n",
    "\n",
    "        # Iterate over all files and directories\n",
    "        for fs_object in root_directory:\n",
    "            if fs_object.info.name:\n",
    "                # Check if the file is unallocated (deleted)\n",
    "                if pytsk3.TSK_FS_META_FLAG_ALLOC:\n",
    "                    partition_files.append(fs_object.info.name.name.decode('utf-8'))\n",
    "\n",
    "        # Print the list of files\n",
    "        if partition_files:\n",
    "            print(\"Partition files:\")\n",
    "            for file_name in partition_files:\n",
    "                print(file_name)\n",
    "        else:\n",
    "            print(\"No found.\")\n",
    "    except Exception as e:\n",
    "        print(\"An error occurred:\", str(e))\n",
    "\n",
    "if __name__ == \"__main__\":\n",
    "    # List deleted files\n",
    "    list_files_in_partition(dd_image_path, dd_image_offset)\n"
   ]
  },
  {
   "cell_type": "code",
   "execution_count": 2,
   "id": "40994d0a4d083351",
   "metadata": {
    "ExecuteTime": {
     "end_time": "2023-10-28T17:34:33.696524713Z",
     "start_time": "2023-10-28T17:34:33.488605359Z"
    },
    "collapsed": false
   },
   "outputs": [
    {
     "name": "stdout",
     "output_type": "stream",
     "text": [
      "Product Name: Windows 7 Ultimate\n",
      "Current Build: 7601\n",
      "Current Version: 6.1\n",
      "Build Lab Ex: 7601.18247.amd64fre.win7sp1_gdr.130828-1532\n"
     ]
    }
   ],
   "source": [
    "import argparse\n",
    "from regipy import RegistryHive\n",
    "\n",
    "# Get the Windows version information\n",
    "\n",
    "# Replace this path with the actual path to your SOFTWARE hive file\n",
    "# hive_path = '../working_files/registry/SOFTWARE'\n",
    "def get_windows_version(hive_path):\n",
    "    key_path = r'\\Microsoft\\Windows NT\\CurrentVersion'\n",
    "\n",
    "    # Load the hive\n",
    "    registry_hive = RegistryHive(hive_path)\n",
    "\n",
    "    # registry_hive.get_key()\n",
    "    key = registry_hive.get_key(key_path)\n",
    "\n",
    "    # Get the values\n",
    "    product_name = key.get_value('ProductName')\n",
    "    current_build = key.get_value('CurrentBuild')\n",
    "    current_version = key.get_value('CurrentVersion')\n",
    "    build_lab_ex = key.get_value('BuildLabEx')\n",
    "\n",
    "    # Print the Windows version information\n",
    "    print(f'Product Name: {product_name}')\n",
    "    print(f'Current Build: {current_build}')\n",
    "    print(f'Current Version: {current_version}')\n",
    "    print(f'Build Lab Ex: {build_lab_ex}')\n",
    "\n",
    "\n",
    "if __name__ == \"__main__\":\n",
    "    get_windows_version(software_registry_path)\n",
    "\n",
    "    \n",
    "\n"
   ]
  },
  {
   "cell_type": "code",
   "execution_count": 8,
   "id": "6cb51d074e51f946",
   "metadata": {
    "ExecuteTime": {
     "end_time": "2023-10-28T17:34:45.971236096Z",
     "start_time": "2023-10-28T17:34:45.808219910Z"
    },
    "collapsed": false
   },
   "outputs": [
    {
     "name": "stdout",
     "output_type": "stream",
     "text": [
      "DaylightName: @tzres.dll,-111\n",
      "StandardName: @tzres.dll,-112\n",
      "Bias: 300 (5 hours)\n",
      "ActiveTimeBias: 240 (4 hours)\n",
      "TimeZoneKeyName: E\u0000a\u0000s\u0000t\u0000e\u0000r\u0000n\u0000 \u0000S\u0000t\u0000a\u0000n\u0000d\u0000a\u0000r\u0000d\u0000 \u0000T\u0000i\u0000m\u0000e\u0000\u0000\u0000a\u0000r\u0000d\u0000 \u0000T\u0000i\u0000m\u0000e\u0000\u0000\u0000\u0000\u0000\u0000\u0000\u0000\u0000\u0000\u0000\u0000\u0000¸Õ“\u0002\u0000\u0000\u0000\u0000H\u0000\u0000\u0000\u0000\u0000\u0000\u0000\u0001\u0000\u0000\u0000\u0000\u0000\u0000\u0000\u0000Ü“\u0002\u0000\u0000\u0000\u0000èN5\u0000\u0000\u0000\u0000\u0000p\u0000\u0000\u0000\u0000\u0000\u0000\u0000ÿ#lýÿÿÿÿ\u0017±ÊÿÿÿÿÿC›Øv\u0000\u0000\u0000\u0000ï›Øv\u0000\u0000\u0000\u0000\u0000\u0000\u0000\u0000\u0000\u0000\u0000\u0000\u0000\u0000\u0000\u0000\u0000\u0000\u0000\u0000à>Îúþ\u0007\u0000\u0000À\u0000\u0001\u0000\u0000\u0000\u0000\u0000ü;Øv\u0000\u0000\u0000\u0000À\u0000\u0001\u0000\u0000\u0000\u0000\u0000à>Îúþ\u0007\u0000\u0000K\u0001\u0000\u0000\u0000\u0000\u0000\u0000\u0000\u0000\u0000\u0000\u0000\u0000\u0000\u0000\u0000\u0000\u0000\u0000\u0000\u0000\u0000\u0000\u0000\u0000\u0000\u0000\u0000\u0000\u0000\u0000\u0000\u0000\u0000\u0000\u0000\u0000\u0000\u0000\u0000\u0000\u0000\u0000þ\u0007\u0000\u0000\n"
     ]
    }
   ],
   "source": [
    "import argparse\n",
    "from regipy import RegistryHive\n",
    "from regipy.exceptions import RegistryKeyNotFoundException\n",
    "from datetime import datetime\n",
    "\n",
    "# Get date and time of last shutdown\n",
    "\n",
    "\n",
    "# Replace this path with the actual path to your SOFTWARE hive file\n",
    "# hive_path = '../working_files/registry/SYSTEM'\n",
    "\n",
    "def get_time_zone(hive_path):\n",
    "    # Load the hive\n",
    "    registry_hive = RegistryHive(hive_path)\n",
    "\n",
    "    try:\n",
    "        timezone_key = registry_hive.get_key('\\ControlSet001\\Control\\TimeZoneInformation')\n",
    "        day_light_name = timezone_key.get_value('DaylightName')\n",
    "        standard_name = timezone_key.get_value('StandardName')\n",
    "        bias = timezone_key.get_value('Bias')\n",
    "        active_time_bias = timezone_key.get_value('ActiveTimeBias')\n",
    "        time_zone_key_name = timezone_key.get_value('TimeZoneKeyName').decode('Windows-1252', errors='replace')\n",
    "\n",
    "        print('DaylightName:', day_light_name)\n",
    "        print('StandardName:', standard_name)\n",
    "        print('Bias:', bias, f'({round(bias/60)} hours)')\n",
    "        print('ActiveTimeBias:', active_time_bias, f'({round(active_time_bias/60)} hours)')\n",
    "        print('TimeZoneKeyName:', time_zone_key_name)\n",
    "    except RegistryKeyNotFoundException:\n",
    "        print('Timezone key not found')\n",
    "\n",
    "if __name__ == \"__main__\":\n",
    "    get_time_zone(system_registry_path)\n"
   ]
  },
  {
   "cell_type": "code",
   "execution_count": 9,
   "id": "d7ecc38377ad1b40",
   "metadata": {
    "ExecuteTime": {
     "end_time": "2023-10-28T17:37:10.548976311Z",
     "start_time": "2023-10-28T17:37:10.427306521Z"
    },
    "collapsed": false
   },
   "outputs": [
    {
     "name": "stdout",
     "output_type": "stream",
     "text": [
      "Computer Name: INFORMANT-PC\n",
      "Hostname: informant-PC\n"
     ]
    }
   ],
   "source": [
    "import argparse\n",
    "from regipy import RegistryHive\n",
    "from regipy.exceptions import RegistryKeyNotFoundException\n",
    "from datetime import datetime\n",
    "\n",
    "# Get User Name\n",
    "\n",
    "# Replace this path with the actual path to your SYSTEM hive file\n",
    "# hive_path = '../working_files/registry/SYSTEM'\n",
    "\n",
    "def get_computer_name(hive_path):\n",
    "    # Load the hive\n",
    "    registry_hive = RegistryHive(hive_path)\n",
    "\n",
    "    try:\n",
    "        computer_key = registry_hive.get_key('\\ControlSet001\\Control\\ComputerName\\ComputerName')\n",
    "        computer_name = computer_key.get_value('ComputerName')\n",
    "        print('Computer Name:', computer_name)\n",
    "    except RegistryKeyNotFoundException:\n",
    "        print('Computer name key not found')\n",
    "\n",
    "    try:\n",
    "        network_key = registry_hive.get_key('\\ControlSet001\\\\Services\\\\Tcpip\\\\Parameters')\n",
    "        hostname = network_key.get_value('Hostname')\n",
    "        print('Hostname:', hostname)\n",
    "    except RegistryKeyNotFoundException:\n",
    "        print('Hostname key not found')\n",
    "\n",
    "if __name__ == \"__main__\":\n",
    "    get_computer_name(system_registry_path)\n"
   ]
  },
  {
   "cell_type": "code",
   "execution_count": 8,
   "id": "a833c55804a5f564",
   "metadata": {
    "ExecuteTime": {
     "end_time": "2023-10-29T01:04:37.642266559Z",
     "start_time": "2023-10-29T01:04:16.120284126Z"
    },
    "collapsed": false
   },
   "outputs": [
    {
     "name": "stdout",
     "output_type": "stream",
     "text": [
      "S-1-5-18\n",
      "Microsoft DCF MUI (English) 2013 15.0.4420.1017 (Microsoft Corporation)\n",
      "Microsoft OneNote MUI (English) 2013 15.0.4420.1017 (Microsoft Corporation)\n",
      "Microsoft Office 32-bit Components 2013 15.0.4420.1017 (Microsoft Corporation)\n",
      "Microsoft Office Shared 32-bit MUI (English) 2013 15.0.4420.1017 (Microsoft Corporation)\n",
      "Microsoft Office OSM MUI (English) 2013 15.0.4420.1017 (Microsoft Corporation)\n",
      "Microsoft Office OSM UX MUI (English) 2013 15.0.4420.1017 (Microsoft Corporation)\n",
      "Microsoft InfoPath MUI (English) 2013 15.0.4420.1017 (Microsoft Corporation)\n",
      "Microsoft Access MUI (English) 2013 15.0.4420.1017 (Microsoft Corporation)\n",
      "Microsoft Office Shared Setup Metadata MUI (English) 2013 15.0.4420.1017 (Microsoft Corporation)\n",
      "Microsoft Excel MUI (English) 2013 15.0.4420.1017 (Microsoft Corporation)\n",
      "Microsoft Access Setup Metadata MUI (English) 2013 15.0.4420.1017 (Microsoft Corporation)\n",
      "Microsoft PowerPoint MUI (English) 2013 15.0.4420.1017 (Microsoft Corporation)\n",
      "Microsoft Publisher MUI (English) 2013 15.0.4420.1017 (Microsoft Corporation)\n",
      "Microsoft Outlook MUI (English) 2013 15.0.4420.1017 (Microsoft Corporation)\n",
      "Microsoft Groove MUI (English) 2013 15.0.4420.1017 (Microsoft Corporation)\n",
      "Microsoft Word MUI (English) 2013 15.0.4420.1017 (Microsoft Corporation)\n",
      "Microsoft Lync MUI (English) 2013 15.0.4420.1017 (Microsoft Corporation)\n",
      "Microsoft Office Proofing (English) 2013 15.0.4420.1017 (Microsoft Corporation)\n",
      "Microsoft Office Shared MUI (English) 2013 15.0.4420.1017 (Microsoft Corporation)\n",
      "Microsoft Office Proofing Tools 2013 - English 15.0.4420.1017 (Microsoft Corporation)\n",
      "Microsoft Office Proofing Tools 2013 - Español 15.0.4420.1017 (Microsoft Corporation)\n",
      "Outils de vérification linguistique 2013 de Microsoft Office - Français 15.0.4420.1017 (Microsoft Corporation)\n",
      "Microsoft Office Professional Plus 2013 15.0.4420.1017 (Microsoft Corporation)\n",
      "Eraser 6.2.0.2962 6.2.2962 (The Eraser Project)\n",
      "Bonjour 3.0.0.10 (Apple Inc.)\n",
      "Apple Software Update 2.1.3.127 (Apple Inc.)\n",
      "Apple Application Support 3.0.6 (Apple Inc.)\n",
      "Google Update Helper 1.3.26.9 (Google Inc.)\n",
      "Google Drive 1.20.8672.3137 (Google, Inc.)\n",
      "Microsoft .NET Framework 4 Extended 4.0.30319 (Microsoft Corporation)\n",
      "Microsoft .NET Framework 4 Client Profile 4.0.30319 (Microsoft Corporation)\n"
     ]
    }
   ],
   "source": [
    "from regipy import RegistryHive\n",
    "import argparse\n",
    "\n",
    "# Get Installed Apps\n",
    "\n",
    "# hive_path = \"../working_files/registry/SOFTWARE\"\n",
    "# Execution = python .\\scripts\\get_installed_apps.py .\\working_files\\registry\\SOFTWARE\n",
    "\n",
    "\n",
    "def get_installed_apps(hive_path):\n",
    "    registry = RegistryHive(hive_path)\n",
    "    installer_path = r\"\\Microsoft\\Windows\\CurrentVersion\\Installer\\UserData\"\n",
    "\n",
    "    # Iterate over subpath\n",
    "    interfaces = registry.get_key(installer_path)\n",
    "    for i in interfaces.iter_subkeys():\n",
    "        print(i.name)\n",
    "        products = i.get_subkey(\"Products\")\n",
    "        for j in products.iter_subkeys():\n",
    "            properties = j.get_subkey(\"InstallProperties\")\n",
    "            print(f'{properties.get_value(\"DisplayName\")} {properties.get_value(\"DisplayVersion\")} ({properties.get_value(\"Publisher\")})')\n",
    "\n",
    "\n",
    "if __name__ == \"__main__\":\n",
    "    get_installed_apps(software_registry_path)"
   ]
  },
  {
   "cell_type": "code",
   "execution_count": 15,
   "id": "9d8c6e2884297ec6",
   "metadata": {
    "ExecuteTime": {
     "end_time": "2023-10-28T17:51:07.356409505Z",
     "start_time": "2023-10-28T17:51:07.218852739Z"
    },
    "collapsed": false
   },
   "outputs": [
    {
     "name": "stdout",
     "output_type": "stream",
     "text": [
      "LastLoggedOnUser = .\\informant\n",
      "LastLoggedOnSAMUser = informant-PC\\informant\n"
     ]
    }
   ],
   "source": [
    "from regipy import RegistryHive\n",
    "import argparse\n",
    "\n",
    "# Get Last Logged On User\n",
    "\n",
    "# hive_path = \"../working_files/registry/SOFTWARE\"\n",
    "# Execution = python .\\scripts\\get_lastloggedon_user.py .\\working_files\\registry\\SOFTWARE\n",
    "def get_last_logged_on_user(hive_path):\n",
    "    key_path = r\"\\Microsoft\\Windows\\CurrentVersion\\Authentication\\LogonUI\"\n",
    "\n",
    "    # Load the hive\n",
    "    registry_hive = RegistryHive(hive_path)\n",
    "\n",
    "    key = registry_hive.get_key(key_path)\n",
    "    try:\n",
    "        last_logged_on_user = key.get_value('LastLoggedOnUser')\n",
    "        last_logged_on_sam_user = key.get_value('LastLoggedOnSAMUser')\n",
    "\n",
    "        print(f\"LastLoggedOnUser = {last_logged_on_user}\")\n",
    "        print(f\"LastLoggedOnSAMUser = {last_logged_on_sam_user}\")\n",
    "\n",
    "    except FileNotFoundError:\n",
    "        print(\"Key or value not found in the registry\")\n",
    "    except PermissionError:\n",
    "        print(\"Permission denied. Please run the script with elevated privileges.\")\n",
    "\n",
    "\n",
    "\n",
    "if __name__ == \"__main__\":\n",
    "    get_last_logged_on_user(software_registry_path)\n"
   ]
  },
  {
   "cell_type": "code",
   "execution_count": 16,
   "id": "774ada13de61fbdc",
   "metadata": {
    "ExecuteTime": {
     "end_time": "2023-10-28T17:51:48.879739090Z",
     "start_time": "2023-10-28T17:51:48.797801379Z"
    },
    "collapsed": false
   },
   "outputs": [
    {
     "name": "stdout",
     "output_type": "stream",
     "text": [
      "Adapter: {846ee342-7039-11de-9d20-806e6f6e6963}\n",
      "\n",
      "\n",
      "Adapter: {E2B9AEEC-B1F7-4778-A049-50D7F2DAB2DE}\n",
      "\tUseZeroBroadcast: 0\n",
      "\tEnableDeadGWDetect: 1\n",
      "\tEnableDHCP: 1\n",
      "\tNameServer: 0\n",
      "\tDomain: 0\n",
      "\tRegistrationEnabled: 1\n",
      "\tRegisterAdapterName: 0\n",
      "\tDhcpIPAddress: 10.11.11.129\n",
      "\tDhcpSubnetMask: 255.255.255.0\n",
      "\tDhcpServer: 10.11.11.254\n",
      "\tLease: 1800\n",
      "\tLeaseObtainedTime: 1427296790\n",
      "\tT1: 1427297690\n",
      "\tT2: 1427298365\n",
      "\tLeaseTerminatesTime: 1427298590\n",
      "\tAddressType: 0\n",
      "\tIsServerNapAware: 0\n",
      "\tDhcpConnForceBroadcastFlag: 0\n",
      "\tDhcpInterfaceOptions: 2c0000000000000004000000000000001ed912550a0b0b02060000000000000004000000000000001ed912550a0b0b02030000000000000004000000000000001ed912550a0b0b020f000000000000000b000000000000001ed912556c6f63616c646f6d61696e00010000000000000004000000000000001ed91255ffffff00\n",
      "\tDhcpGatewayHardware: 0a0b0b0206000000005056ebb22c\n",
      "\tDhcpGatewayHardwareCount: 1\n",
      "\tDhcpNameServer: 10.11.11.2\n",
      "\tDhcpDefaultGateway: ['10.11.11.2']\n",
      "\tDhcpDomain: localdomain\n",
      "\tDhcpSubnetMaskOpt: ['255.255.255.0']\n"
     ]
    }
   ],
   "source": [
    "from regipy import RegistryHive\n",
    "import argparse\n",
    "\n",
    "# Get Network Interface Info\n",
    "\n",
    "#hive_path = \"../working_files/registry/SYSTEM\"\n",
    "# Execution = python .\\scripts\\get_network_interface_info.py .\\working_files\\registry\\SYSTEM\n",
    "\n",
    "def get_network_interface_info(hive_path):\n",
    "    registry = RegistryHive(hive_path)\n",
    "    tcpip_interfaces_key = r\"\\ControlSet001\\Services\\Tcpip\\Parameters\\Interfaces\"\n",
    "\n",
    "    interfaces = registry.get_key(tcpip_interfaces_key)\n",
    "\n",
    "    for i in interfaces.iter_subkeys():\n",
    "        print(f\"Adapter: {i.name}\")\n",
    "\n",
    "        for j in i.iter_values(as_json=True):\n",
    "            print(f\"\\t{j.name}: {j.value}\")\n",
    "        print(\"\\n\")\n",
    "\n",
    "\n",
    "if __name__ == \"__main__\":\n",
    "    get_network_interface_info(system_registry_path)"
   ]
  },
  {
   "cell_type": "code",
   "execution_count": 44,
   "id": "6c24e0f8039d6fdd",
   "metadata": {
    "ExecuteTime": {
     "end_time": "2023-10-29T00:13:58.969432475Z",
     "start_time": "2023-10-29T00:13:58.881537694Z"
    },
    "collapsed": false
   },
   "outputs": [
    {
     "name": "stdout",
     "output_type": "stream",
     "text": [
      "ShutdownTime: 2015-03-25 15:31:05.232008\n"
     ]
    }
   ],
   "source": [
    "from regipy import RegistryHive\n",
    "import datetime\n",
    "import argparse\n",
    "\n",
    "# Get last shutdown time\n",
    "\n",
    "# hive_path = \"../working_files/registry/SYSTEM\"\n",
    "# Execution = python .\\scripts\\get_shutdown_time.py .\\working_files\\registry\\SYSTEM\n",
    "def get_shutdown_time(hive_path):\n",
    "    key_path = r\"\\ControlSet001\\Control\\Windows\"\n",
    "    # hive_path = \"../working_files/registry/SYSTEM\"\n",
    "    # Load the hive\n",
    "    registry_hive = RegistryHive(hive_path)\n",
    "\n",
    "    key = registry_hive.get_key(key_path)\n",
    "    try:\n",
    "        shutdowntime = key.get_value('ShutdownTime')\n",
    "\n",
    "        # Convert bytes to an integer\n",
    "        filetime_int = int.from_bytes(shutdowntime, byteorder='little')\n",
    "\n",
    "        # Define the FILETIME epoch\n",
    "        filetime_epoch = datetime.datetime(1601, 1, 1)\n",
    "\n",
    "        # Convert the integer to a datetime object\n",
    "        shutdowntime = filetime_epoch + datetime.timedelta(microseconds=filetime_int / 10)\n",
    "\n",
    "        print(f\"ShutdownTime: {shutdowntime}\")\n",
    "\n",
    "    except FileNotFoundError:\n",
    "        return \"Key or value not found in the registry\"\n",
    "    except PermissionError:\n",
    "        return \"Permission denied. Please run the script with elevated privileges.\"\n",
    "\n",
    "\n",
    "if __name__ == \"__main__\":\n",
    "    # Set up command-line argument parsing\n",
    "    # parser = argparse.ArgumentParser(description=\"List last recorded shutdown date/time.\")\n",
    "    # parser.add_argument(\"hive_path\", help=\"Path to the registry file.\")\n",
    "\n",
    "    # Parse the arguments\n",
    "    # args = parser.parse_args()\n",
    "\n",
    "    # Print Windows version\n",
    "    get_shutdown_time(system_registry_path)"
   ]
  }
 ],
 "metadata": {
  "kernelspec": {
   "display_name": "Python 3",
   "language": "python",
   "name": "python3"
  },
  "language_info": {
   "codemirror_mode": {
    "name": "ipython",
    "version": 3
   },
   "file_extension": ".py",
   "mimetype": "text/x-python",
   "name": "python",
   "nbconvert_exporter": "python",
   "pygments_lexer": "ipython3",
   "version": "3.10.12"
  }
 },
 "nbformat": 4,
 "nbformat_minor": 5
}
