{
 "cells": [
  {
   "cell_type": "code",
   "execution_count": 1,
   "metadata": {},
   "outputs": [],
   "source": [
    "system_registry_path = \"SYSTEM\""
   ]
  },
  {
   "cell_type": "code",
   "execution_count": 2,
   "metadata": {},
   "outputs": [
    {
     "name": "stdout",
     "output_type": "stream",
     "text": [
      "Adapter: {846ee342-7039-11de-9d20-806e6f6e6963}\n",
      "\n",
      "\n",
      "Adapter: {E2B9AEEC-B1F7-4778-A049-50D7F2DAB2DE}\n",
      "\tUseZeroBroadcast: 0\n",
      "\tEnableDeadGWDetect: 1\n",
      "\tEnableDHCP: 1\n",
      "\tNameServer: 0\n",
      "\tDomain: 0\n",
      "\tRegistrationEnabled: 1\n",
      "\tRegisterAdapterName: 0\n",
      "\tDhcpIPAddress: 10.11.11.129\n",
      "\tDhcpSubnetMask: 255.255.255.0\n",
      "\tDhcpServer: 10.11.11.254\n",
      "\tLease: 1800\n",
      "\tLeaseObtainedTime: 1427296790\n",
      "\tT1: 1427297690\n",
      "\tT2: 1427298365\n",
      "\tLeaseTerminatesTime: 1427298590\n",
      "\tAddressType: 0\n",
      "\tIsServerNapAware: 0\n",
      "\tDhcpConnForceBroadcastFlag: 0\n",
      "\tDhcpInterfaceOptions: 2c0000000000000004000000000000001ed912550a0b0b02060000000000000004000000000000001ed912550a0b0b02030000000000000004000000000000001ed912550a0b0b020f000000000000000b000000000000001ed912556c6f63616c646f6d61696e00010000000000000004000000000000001ed91255ffffff00\n",
      "\tDhcpGatewayHardware: 0a0b0b0206000000005056ebb22c\n",
      "\tDhcpGatewayHardwareCount: 1\n",
      "\tDhcpNameServer: 10.11.11.2\n",
      "\tDhcpDefaultGateway: ['10.11.11.2']\n",
      "\tDhcpDomain: localdomain\n",
      "\tDhcpSubnetMaskOpt: ['255.255.255.0']\n"
     ]
    }
   ],
   "source": [
    "from regipy import RegistryHive\n",
    "import argparse\n",
    "\n",
    "# Get Network Interface Info\n",
    "\n",
    "#hive_path = \"../working_files/registry/SYSTEM\"\n",
    "# Execution = python .\\scripts\\get_network_interface_info.py .\\working_files\\registry\\SYSTEM\n",
    "\n",
    "def get_network_interface_info(hive_path):\n",
    "    registry = RegistryHive(hive_path)\n",
    "    tcpip_interfaces_key = r\"\\ControlSet001\\Services\\Tcpip\\Parameters\\Interfaces\"\n",
    "\n",
    "    interfaces = registry.get_key(tcpip_interfaces_key)\n",
    "\n",
    "    for i in interfaces.iter_subkeys():\n",
    "        print(f\"Adapter: {i.name}\")\n",
    "\n",
    "        for j in i.iter_values(as_json=True):\n",
    "            print(f\"\\t{j.name}: {j.value}\")\n",
    "        print(\"\\n\")\n",
    "\n",
    "\n",
    "if __name__ == \"__main__\":\n",
    "    get_network_interface_info(system_registry_path)"
   ]
  }
 ],
 "metadata": {
  "kernelspec": {
   "display_name": "Python 3",
   "language": "python",
   "name": "python3"
  },
  "language_info": {
   "codemirror_mode": {
    "name": "ipython",
    "version": 3
   },
   "file_extension": ".py",
   "mimetype": "text/x-python",
   "name": "python",
   "nbconvert_exporter": "python",
   "pygments_lexer": "ipython3",
   "version": "3.10.12"
  }
 },
 "nbformat": 4,
 "nbformat_minor": 2
}
