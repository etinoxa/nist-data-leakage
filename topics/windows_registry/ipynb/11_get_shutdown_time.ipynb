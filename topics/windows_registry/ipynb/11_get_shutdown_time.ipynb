{
 "cells": [
  {
   "cell_type": "code",
   "execution_count": 1,
   "metadata": {},
   "outputs": [],
   "source": [
    "system_registry_path = \"/home/etinoxa/PycharmProjects/forensic-lab/working_files/registry/SYSTEM\""
   ]
  },
  {
   "cell_type": "code",
   "execution_count": 2,
   "metadata": {},
   "outputs": [
    {
     "name": "stdout",
     "output_type": "stream",
     "text": [
      "ShutdownTime: 2015-03-25 15:31:05.232008\n"
     ]
    }
   ],
   "source": [
    "from regipy import RegistryHive\n",
    "import datetime\n",
    "import argparse\n",
    "\n",
    "# Get last shutdown time\n",
    "\n",
    "# hive_path = \"../working_files/registry/SYSTEM\"\n",
    "# Execution = python .\\scripts\\get_shutdown_time.py .\\working_files\\registry\\SYSTEM\n",
    "def get_shutdown_time(hive_path):\n",
    "    key_path = r\"\\ControlSet001\\Control\\Windows\"\n",
    "    # hive_path = \"../working_files/registry/SYSTEM\"\n",
    "    # Load the hive\n",
    "    registry_hive = RegistryHive(hive_path)\n",
    "\n",
    "    key = registry_hive.get_key(key_path)\n",
    "    try:\n",
    "        shutdowntime = key.get_value('ShutdownTime')\n",
    "\n",
    "        # Convert bytes to an integer\n",
    "        filetime_int = int.from_bytes(shutdowntime, byteorder='little')\n",
    "\n",
    "        # Define the FILETIME epoch\n",
    "        filetime_epoch = datetime.datetime(1601, 1, 1)\n",
    "\n",
    "        # Convert the integer to a datetime object\n",
    "        shutdowntime = filetime_epoch + datetime.timedelta(microseconds=filetime_int / 10)\n",
    "\n",
    "        print(f\"ShutdownTime: {shutdowntime}\")\n",
    "\n",
    "    except FileNotFoundError:\n",
    "        return \"Key or value not found in the registry\"\n",
    "    except PermissionError:\n",
    "        return \"Permission denied. Please run the script with elevated privileges.\"\n",
    "\n",
    "\n",
    "if __name__ == \"__main__\":\n",
    "    get_shutdown_time(system_registry_path)"
   ]
  }
 ],
 "metadata": {
  "kernelspec": {
   "display_name": "Python 3",
   "language": "python",
   "name": "python3"
  },
  "language_info": {
   "codemirror_mode": {
    "name": "ipython",
    "version": 3
   },
   "file_extension": ".py",
   "mimetype": "text/x-python",
   "name": "python",
   "nbconvert_exporter": "python",
   "pygments_lexer": "ipython3",
   "version": "3.10.12"
  }
 },
 "nbformat": 4,
 "nbformat_minor": 2
}
