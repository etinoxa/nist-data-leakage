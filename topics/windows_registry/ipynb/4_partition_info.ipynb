{
 "cells": [
  {
   "cell_type": "code",
   "execution_count": 6,
   "metadata": {},
   "outputs": [],
   "source": [
    "dd_image_path = \"cfreds_2015_data_leakage_pc.dd\"\n",
    "dd_image_offset = 206848"
   ]
  },
  {
   "cell_type": "code",
   "execution_count": 9,
   "metadata": {},
   "outputs": [
    {
     "name": "stdout",
     "output_type": "stream",
     "text": [
      "\n",
      "FILE SYSTEM INFORMATION\n",
      "file_system_type: NTFS    \n",
      "oem_name: \u0000Hz\fʍ\f\u0000\u0000\n",
      "version: \u0000\u00003м\n",
      "\n",
      "METADATA INFORMATION\n",
      "first_cluster_of_mft: 786432\n",
      "first_cluster_of_mft_mirror: 2\n",
      "size_of_mft_entries: 246\n",
      "size_of_index_records: 1\n",
      "mft_range: 0 - 193462272\n",
      "root_directory: 1718099487\n",
      "\n",
      "CONTENT INFORMATION\n",
      "sector_size: 512\n",
      "cluster_size: 8\n",
      "total_cluster_range: 0 - 26845303\n",
      "total_sector_range: 0 - 13744795895\n"
     ]
    }
   ],
   "source": [
    "import struct\n",
    "import sys\n",
    "\n",
    "# Execution: python3 partition_info.py ../cfreds_2015_data_leakage_pc.dd 206848\n",
    "\n",
    "def read_sector(image_file, offset, sector_size):\n",
    "    image_file.seek(offset * sector_size)\n",
    "    return image_file.read(sector_size)\n",
    "\n",
    "def parse_boot_sector(sector_data):\n",
    "    # Extract file system information\n",
    "    file_system_type = sector_data[3:11].decode(\"utf-8\", errors=\"ignore\")\n",
    "    oem_name = sector_data[71:82].decode(\"utf-8\", errors=\"ignore\")\n",
    "    version = sector_data[82:90].decode(\"utf-8\", errors=\"ignore\")\n",
    "\n",
    "    # Extract metadata information\n",
    "    first_cluster_of_mft, first_cluster_of_mft_mirror = struct.unpack(\"<QQ\", sector_data[48:64])\n",
    "    size_of_mft_entries, size_of_index_records = struct.unpack(\"<II\", sector_data[64:72])\n",
    "    mft_range = \"0 - \" + str(first_cluster_of_mft * size_of_mft_entries)\n",
    "    root_directory = struct.unpack(\"<I\", sector_data[96:100])[0]\n",
    "\n",
    "    # Extract content information\n",
    "    sector_size, cluster_size = struct.unpack(\"<HH\", sector_data[11:15])\n",
    "    total_cluster_range = \"0 - \" + str(int(((root_directory * cluster_size) / sector_size) - 1))\n",
    "    total_sector_range = \"0 - \" + str(int((root_directory * cluster_size) - 1))\n",
    "\n",
    "    return {\n",
    "        \"\\nFILE SYSTEM INFORMATION\": {\n",
    "            \"file_system_type\": file_system_type,\n",
    "            \"oem_name\": oem_name,\n",
    "            \"version\": version,\n",
    "        },\n",
    "        \"\\nMETADATA INFORMATION\": {\n",
    "            \"first_cluster_of_mft\": first_cluster_of_mft,\n",
    "            \"first_cluster_of_mft_mirror\": first_cluster_of_mft_mirror,\n",
    "            \"size_of_mft_entries\": size_of_mft_entries,\n",
    "            \"size_of_index_records\": size_of_index_records,\n",
    "            \"mft_range\": mft_range,\n",
    "            \"root_directory\": root_directory,\n",
    "        },\n",
    "        \"\\nCONTENT INFORMATION\": {\n",
    "            \"sector_size\": sector_size,\n",
    "            \"cluster_size\": cluster_size,\n",
    "            \"total_cluster_range\": total_cluster_range,\n",
    "            \"total_sector_range\": total_sector_range,\n",
    "        },\n",
    "    }\n",
    "\n",
    "if __name__ == \"__main__\":\n",
    "    image_file_path = dd_image_path\n",
    "    offset = dd_image_offset\n",
    "    sector_size = 512\n",
    "\n",
    "    try:\n",
    "        with open(image_file_path, \"rb\") as image_file:\n",
    "            sector_data = read_sector(image_file, offset, sector_size)\n",
    "            partition_details = parse_boot_sector(sector_data)\n",
    "\n",
    "            # Display partition details\n",
    "            for section, details in partition_details.items():\n",
    "                print(section)\n",
    "                for key, value in details.items():\n",
    "                    print(f\"{key}: {value}\")\n",
    "\n",
    "    except FileNotFoundError:\n",
    "        print(\"Image file not found.\")\n",
    "    except Exception as e:\n",
    "        print(f\"An error occurred: {str(e)}\")\n"
   ]
  }
 ],
 "metadata": {
  "kernelspec": {
   "display_name": "Python 3",
   "language": "python",
   "name": "python3"
  },
  "language_info": {
   "codemirror_mode": {
    "name": "ipython",
    "version": 3
   },
   "file_extension": ".py",
   "mimetype": "text/x-python",
   "name": "python",
   "nbconvert_exporter": "python",
   "pygments_lexer": "ipython3",
   "version": "3.10.12"
  }
 },
 "nbformat": 4,
 "nbformat_minor": 2
}
