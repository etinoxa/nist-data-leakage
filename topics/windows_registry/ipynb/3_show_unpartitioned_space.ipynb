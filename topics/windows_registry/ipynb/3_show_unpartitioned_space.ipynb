{
 "cells": [
  {
   "cell_type": "code",
   "execution_count": 1,
   "metadata": {},
   "outputs": [],
   "source": [
    "dd_image_path = \"cfreds_2015_data_leakage_pc.dd\"\n",
    "dd_image_offset = 206848"
   ]
  },
  {
   "cell_type": "code",
   "execution_count": 2,
   "metadata": {},
   "outputs": [
    {
     "name": "stdout",
     "output_type": "stream",
     "text": [
      "Slot      Start        End          Length       Description\n",
      "   0             0             0             1  b'Primary Table (#0)'\n",
      "   1             0          2047          2048  b'Unallocated'\n",
      "   2          2048        206847        204800  b'NTFS / exFAT (0x07)'\n",
      "   3        206848      41940991      41734144  b'NTFS / exFAT (0x07)'\n",
      "   4      41940992      41943039          2048  b'Unallocated'\n"
     ]
    }
   ],
   "source": [
    "import argparse\n",
    "import pytsk3\n",
    "\n",
    "# Get Sectors of all partitions in the disk image\n",
    "\n",
    "def list_unallocated_space(image_path):\n",
    "    # Open the disk image\n",
    "    img_info = pytsk3.Img_Info(image_path)\n",
    "\n",
    "    # Open the volume system\n",
    "    vol_info = pytsk3.Volume_Info(img_info)\n",
    "\n",
    "    # Print partition table header\n",
    "    print(\"Slot      Start        End          Length       Description\")\n",
    "\n",
    "    # Iterate through the partitions\n",
    "    for part in vol_info:\n",
    "        start = part.start\n",
    "        end = start + part.len - 1\n",
    "        length = part.len\n",
    "        description = part.desc\n",
    "\n",
    "        print(f\"{part.addr:4}  {start:12}  {end:12}  {length:12}  {description}\")\n",
    "\n",
    "\n",
    "if __name__ == \"__main__\":\n",
    "    # List unallocated space\n",
    "    list_unallocated_space(dd_image_path)\n"
   ]
  },
  {
   "cell_type": "code",
   "execution_count": null,
   "metadata": {},
   "outputs": [],
   "source": []
  }
 ],
 "metadata": {
  "kernelspec": {
   "display_name": "Python 3",
   "language": "python",
   "name": "python3"
  },
  "language_info": {
   "codemirror_mode": {
    "name": "ipython",
    "version": 3
   },
   "file_extension": ".py",
   "mimetype": "text/x-python",
   "name": "python",
   "nbconvert_exporter": "python",
   "pygments_lexer": "ipython3",
   "version": "3.10.12"
  }
 },
 "nbformat": 4,
 "nbformat_minor": 2
}
