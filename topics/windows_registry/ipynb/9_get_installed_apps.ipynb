{
 "cells": [
  {
   "cell_type": "code",
   "execution_count": 1,
   "metadata": {},
   "outputs": [],
   "source": [
    "software_registry_path = \"SOFTWARE\""
   ]
  },
  {
   "cell_type": "code",
   "execution_count": 2,
   "metadata": {},
   "outputs": [
    {
     "name": "stdout",
     "output_type": "stream",
     "text": [
      "S-1-5-18\n",
      "Microsoft DCF MUI (English) 2013 15.0.4420.1017 (Microsoft Corporation)\n",
      "Microsoft OneNote MUI (English) 2013 15.0.4420.1017 (Microsoft Corporation)\n",
      "Microsoft Office 32-bit Components 2013 15.0.4420.1017 (Microsoft Corporation)\n",
      "Microsoft Office Shared 32-bit MUI (English) 2013 15.0.4420.1017 (Microsoft Corporation)\n",
      "Microsoft Office OSM MUI (English) 2013 15.0.4420.1017 (Microsoft Corporation)\n",
      "Microsoft Office OSM UX MUI (English) 2013 15.0.4420.1017 (Microsoft Corporation)\n",
      "Microsoft InfoPath MUI (English) 2013 15.0.4420.1017 (Microsoft Corporation)\n",
      "Microsoft Access MUI (English) 2013 15.0.4420.1017 (Microsoft Corporation)\n",
      "Microsoft Office Shared Setup Metadata MUI (English) 2013 15.0.4420.1017 (Microsoft Corporation)\n",
      "Microsoft Excel MUI (English) 2013 15.0.4420.1017 (Microsoft Corporation)\n",
      "Microsoft Access Setup Metadata MUI (English) 2013 15.0.4420.1017 (Microsoft Corporation)\n",
      "Microsoft PowerPoint MUI (English) 2013 15.0.4420.1017 (Microsoft Corporation)\n",
      "Microsoft Publisher MUI (English) 2013 15.0.4420.1017 (Microsoft Corporation)\n",
      "Microsoft Outlook MUI (English) 2013 15.0.4420.1017 (Microsoft Corporation)\n",
      "Microsoft Groove MUI (English) 2013 15.0.4420.1017 (Microsoft Corporation)\n",
      "Microsoft Word MUI (English) 2013 15.0.4420.1017 (Microsoft Corporation)\n",
      "Microsoft Lync MUI (English) 2013 15.0.4420.1017 (Microsoft Corporation)\n",
      "Microsoft Office Proofing (English) 2013 15.0.4420.1017 (Microsoft Corporation)\n",
      "Microsoft Office Shared MUI (English) 2013 15.0.4420.1017 (Microsoft Corporation)\n",
      "Microsoft Office Proofing Tools 2013 - English 15.0.4420.1017 (Microsoft Corporation)\n",
      "Microsoft Office Proofing Tools 2013 - Español 15.0.4420.1017 (Microsoft Corporation)\n",
      "Outils de vérification linguistique 2013 de Microsoft Office - Français 15.0.4420.1017 (Microsoft Corporation)\n",
      "Microsoft Office Professional Plus 2013 15.0.4420.1017 (Microsoft Corporation)\n",
      "Eraser 6.2.0.2962 6.2.2962 (The Eraser Project)\n",
      "Bonjour 3.0.0.10 (Apple Inc.)\n",
      "Apple Software Update 2.1.3.127 (Apple Inc.)\n",
      "Apple Application Support 3.0.6 (Apple Inc.)\n",
      "Google Update Helper 1.3.26.9 (Google Inc.)\n",
      "Google Drive 1.20.8672.3137 (Google, Inc.)\n",
      "Microsoft .NET Framework 4 Extended 4.0.30319 (Microsoft Corporation)\n",
      "Microsoft .NET Framework 4 Client Profile 4.0.30319 (Microsoft Corporation)\n"
     ]
    }
   ],
   "source": [
    "from regipy import RegistryHive\n",
    "import argparse\n",
    "\n",
    "# Get Installed Apps\n",
    "\n",
    "# hive_path = \"../working_files/registry/SOFTWARE\"\n",
    "# Execution = python .\\scripts\\get_installed_apps.py .\\working_files\\registry\\SOFTWARE\n",
    "\n",
    "\n",
    "def get_installed_apps(hive_path):\n",
    "    registry = RegistryHive(hive_path)\n",
    "    installer_path = r\"\\Microsoft\\Windows\\CurrentVersion\\Installer\\UserData\"\n",
    "\n",
    "    # Iterate over subpath\n",
    "    interfaces = registry.get_key(installer_path)\n",
    "    for i in interfaces.iter_subkeys():\n",
    "        print(i.name)\n",
    "        products = i.get_subkey(\"Products\")\n",
    "        for j in products.iter_subkeys():\n",
    "            properties = j.get_subkey(\"InstallProperties\")\n",
    "            print(f'{properties.get_value(\"DisplayName\")} {properties.get_value(\"DisplayVersion\")} ({properties.get_value(\"Publisher\")})')\n",
    "\n",
    "\n",
    "if __name__ == \"__main__\":\n",
    "    get_installed_apps(software_registry_path)"
   ]
  }
 ],
 "metadata": {
  "kernelspec": {
   "display_name": "Python 3",
   "language": "python",
   "name": "python3"
  },
  "language_info": {
   "codemirror_mode": {
    "name": "ipython",
    "version": 3
   },
   "file_extension": ".py",
   "mimetype": "text/x-python",
   "name": "python",
   "nbconvert_exporter": "python",
   "pygments_lexer": "ipython3",
   "version": "3.10.12"
  }
 },
 "nbformat": 4,
 "nbformat_minor": 2
}
