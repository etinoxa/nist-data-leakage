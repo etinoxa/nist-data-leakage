{
 "cells": [
  {
   "cell_type": "code",
   "execution_count": 1,
   "metadata": {},
   "outputs": [],
   "source": [
    "system_registry_path = \"SYSTEM\""
   ]
  },
  {
   "cell_type": "code",
   "execution_count": 2,
   "metadata": {},
   "outputs": [
    {
     "name": "stdout",
     "output_type": "stream",
     "text": [
      "DaylightName: @tzres.dll,-111\n",
      "StandardName: @tzres.dll,-112\n",
      "Bias: 300 (5 hours)\n",
      "ActiveTimeBias: 240 (4 hours)\n",
      "TimeZoneKeyName: E\u0000a\u0000s\u0000t\u0000e\u0000r\u0000n\u0000 \u0000S\u0000t\u0000a\u0000n\u0000d\u0000a\u0000r\u0000d\u0000 \u0000T\u0000i\u0000m\u0000e\u0000\u0000\u0000a\u0000r\u0000d\u0000 \u0000T\u0000i\u0000m\u0000e\u0000\u0000\u0000\u0000\u0000\u0000\u0000\u0000\u0000\u0000\u0000\u0000\u0000¸Õ“\u0002\u0000\u0000\u0000\u0000H\u0000\u0000\u0000\u0000\u0000\u0000\u0000\u0001\u0000\u0000\u0000\u0000\u0000\u0000\u0000\u0000Ü“\u0002\u0000\u0000\u0000\u0000èN5\u0000\u0000\u0000\u0000\u0000p\u0000\u0000\u0000\u0000\u0000\u0000\u0000ÿ#lýÿÿÿÿ\u0017±ÊÿÿÿÿÿC›Øv\u0000\u0000\u0000\u0000ï›Øv\u0000\u0000\u0000\u0000\u0000\u0000\u0000\u0000\u0000\u0000\u0000\u0000\u0000\u0000\u0000\u0000\u0000\u0000\u0000\u0000à>Îúþ\u0007\u0000\u0000À\u0000\u0001\u0000\u0000\u0000\u0000\u0000ü;Øv\u0000\u0000\u0000\u0000À\u0000\u0001\u0000\u0000\u0000\u0000\u0000à>Îúþ\u0007\u0000\u0000K\u0001\u0000\u0000\u0000\u0000\u0000\u0000\u0000\u0000\u0000\u0000\u0000\u0000\u0000\u0000\u0000\u0000\u0000\u0000\u0000\u0000\u0000\u0000\u0000\u0000\u0000\u0000\u0000\u0000\u0000\u0000\u0000\u0000\u0000\u0000\u0000\u0000\u0000\u0000\u0000\u0000\u0000\u0000þ\u0007\u0000\u0000\n"
     ]
    }
   ],
   "source": [
    "import argparse\n",
    "from regipy import RegistryHive\n",
    "from regipy.exceptions import RegistryKeyNotFoundException\n",
    "from datetime import datetime\n",
    "\n",
    "# Get date and time of last shutdown\n",
    "\n",
    "\n",
    "# Replace this path with the actual path to your SOFTWARE hive file\n",
    "# hive_path = '../working_files/registry/SYSTEM'\n",
    "\n",
    "def get_time_zone(hive_path):\n",
    "    # Load the hive\n",
    "    registry_hive = RegistryHive(hive_path)\n",
    "\n",
    "    try:\n",
    "        timezone_key = registry_hive.get_key('\\ControlSet001\\Control\\TimeZoneInformation')\n",
    "        day_light_name = timezone_key.get_value('DaylightName')\n",
    "        standard_name = timezone_key.get_value('StandardName')\n",
    "        bias = timezone_key.get_value('Bias')\n",
    "        active_time_bias = timezone_key.get_value('ActiveTimeBias')\n",
    "        time_zone_key_name = timezone_key.get_value('TimeZoneKeyName').decode('Windows-1252', errors='replace')\n",
    "\n",
    "        print('DaylightName:', day_light_name)\n",
    "        print('StandardName:', standard_name)\n",
    "        print('Bias:', bias, f'({round(bias/60)} hours)')\n",
    "        print('ActiveTimeBias:', active_time_bias, f'({round(active_time_bias/60)} hours)')\n",
    "        print('TimeZoneKeyName:', time_zone_key_name)\n",
    "    except RegistryKeyNotFoundException:\n",
    "        print('Timezone key not found')\n",
    "\n",
    "if __name__ == \"__main__\":\n",
    "    # Set up command-line argument parsing\n",
    "    # parser = argparse.ArgumentParser(description=\"Prints Time Zone Setting.\")\n",
    "    # parser.add_argument(\"hive_path\", help=\"Path to the SYSTEM hive file.\")\n",
    "\n",
    "    # Parse the arguments\n",
    "    # args = parser.parse_args()\n",
    "\n",
    "    # Print Windows version\n",
    "    get_time_zone(system_registry_path)\n"
   ]
  }
 ],
 "metadata": {
  "kernelspec": {
   "display_name": "Python 3",
   "language": "python",
   "name": "python3"
  },
  "language_info": {
   "codemirror_mode": {
    "name": "ipython",
    "version": 3
   },
   "file_extension": ".py",
   "mimetype": "text/x-python",
   "name": "python",
   "nbconvert_exporter": "python",
   "pygments_lexer": "ipython3",
   "version": "3.10.12"
  }
 },
 "nbformat": 4,
 "nbformat_minor": 2
}
