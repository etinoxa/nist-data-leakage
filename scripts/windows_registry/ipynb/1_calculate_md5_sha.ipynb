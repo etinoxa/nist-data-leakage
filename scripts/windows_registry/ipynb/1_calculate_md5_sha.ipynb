{
 "cells": [
  {
   "cell_type": "code",
   "execution_count": 1,
   "metadata": {},
   "outputs": [],
   "source": [
    "dd_image_path = \"/home/etinoxa/PycharmProjects/forensic-lab/cfreds_2015_data_leakage_pc.dd\"\n",
    "dd_image_offset = 206848"
   ]
  },
  {
   "cell_type": "code",
   "execution_count": 6,
   "metadata": {},
   "outputs": [
    {
     "name": "stdout",
     "output_type": "stream",
     "text": [
      "MD5 Hash: c256cf70f249e45b6152c4fa5a6ff123\n",
      "SHA-256 Hash: 4dfc34e7ed89aaf53c7ac131fdb44052b2116a970e13c0e0e7ff5a20f14459cc\n"
     ]
    }
   ],
   "source": [
    "import hashlib\n",
    "import sys\n",
    "# Calculate MD% and SHA 256 hash the imgae\n",
    "\n",
    "\n",
    "def calculate_md5(file_path):\n",
    "    \"\"\"\n",
    "    Calculate the MD5 hash of a file.\n",
    "\n",
    "    :param file_path: Path to the file.\n",
    "    :return: MD5 hash as a hexadecimal string.\n",
    "    \"\"\"\n",
    "    md5_hash = hashlib.md5()\n",
    "    with open(file_path, \"rb\") as file:\n",
    "        while True:\n",
    "            data = file.read(4096)  # Read the file in chunks of 4KB\n",
    "            if not data:\n",
    "                break\n",
    "            md5_hash.update(data)\n",
    "    return md5_hash.hexdigest()\n",
    "\n",
    "\n",
    "def calculate_sha256(file_path):\n",
    "    \"\"\"\n",
    "    Calculate the SHA-256 hash of a file.\n",
    "\n",
    "    :param file_path: Path to the file.\n",
    "    :return: SHA-256 hash as a hexadecimal string.\n",
    "    \"\"\"\n",
    "    sha256_hash = hashlib.sha256()\n",
    "    with open(file_path, \"rb\") as file:\n",
    "        while True:\n",
    "            data = file.read(4096)  # Read the file in chunks of 4KB\n",
    "            if not data:\n",
    "                break\n",
    "            sha256_hash.update(data)\n",
    "    return sha256_hash.hexdigest()\n",
    "\n",
    "\n",
    "if __name__ == \"__main__\":\n",
    "    file_path = dd_image_path\n",
    "\n",
    "    try:\n",
    "        md5_hash = calculate_md5(file_path)\n",
    "        sha256_hash = calculate_sha256(file_path)\n",
    "\n",
    "        print(f\"MD5 Hash: {md5_hash}\")\n",
    "        print(f\"SHA-256 Hash: {sha256_hash}\")\n",
    "    except FileNotFoundError:\n",
    "        print(\"File not found.\")\n"
   ]
  },
  {
   "cell_type": "code",
   "execution_count": null,
   "metadata": {},
   "outputs": [],
   "source": []
  }
 ],
 "metadata": {
  "kernelspec": {
   "display_name": "Python 3",
   "language": "python",
   "name": "python3"
  },
  "language_info": {
   "codemirror_mode": {
    "name": "ipython",
    "version": 3
   },
   "file_extension": ".py",
   "mimetype": "text/x-python",
   "name": "python",
   "nbconvert_exporter": "python",
   "pygments_lexer": "ipython3",
   "version": "3.10.12"
  }
 },
 "nbformat": 4,
 "nbformat_minor": 2
}
