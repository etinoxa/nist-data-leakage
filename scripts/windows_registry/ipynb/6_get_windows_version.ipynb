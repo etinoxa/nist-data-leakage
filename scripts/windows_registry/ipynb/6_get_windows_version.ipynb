{
 "cells": [
  {
   "cell_type": "code",
   "execution_count": 3,
   "metadata": {},
   "outputs": [],
   "source": [
    "software_registry_path = \"/home/etinoxa/PycharmProjects/forensic-lab/working_files/registry/SOFTWARE\""
   ]
  },
  {
   "cell_type": "code",
   "execution_count": 4,
   "metadata": {},
   "outputs": [
    {
     "name": "stdout",
     "output_type": "stream",
     "text": [
      "Product Name: Windows 7 Ultimate\n",
      "Current Build: 7601\n",
      "Current Version: 6.1\n",
      "Build Lab Ex: 7601.18247.amd64fre.win7sp1_gdr.130828-1532\n"
     ]
    }
   ],
   "source": [
    "import argparse\n",
    "from regipy import RegistryHive\n",
    "\n",
    "# Get the Windows version information\n",
    "\n",
    "# Replace this path with the actual path to your SOFTWARE hive file\n",
    "# hive_path = '../working_files/registry/SOFTWARE'\n",
    "def get_windows_version(hive_path):\n",
    "    key_path = r'\\Microsoft\\Windows NT\\CurrentVersion'\n",
    "\n",
    "    # Load the hive\n",
    "    registry_hive = RegistryHive(hive_path)\n",
    "\n",
    "    # registry_hive.get_key()\n",
    "    key = registry_hive.get_key(key_path)\n",
    "\n",
    "    # Get the values\n",
    "    product_name = key.get_value('ProductName')\n",
    "    current_build = key.get_value('CurrentBuild')\n",
    "    current_version = key.get_value('CurrentVersion')\n",
    "    build_lab_ex = key.get_value('BuildLabEx')\n",
    "\n",
    "    # Print the Windows version information\n",
    "    print(f'Product Name: {product_name}')\n",
    "    print(f'Current Build: {current_build}')\n",
    "    print(f'Current Version: {current_version}')\n",
    "    print(f'Build Lab Ex: {build_lab_ex}')\n",
    "\n",
    "\n",
    "if __name__ == \"__main__\":\n",
    "    get_windows_version(software_registry_path)\n",
    "\n",
    "    \n",
    "\n"
   ]
  }
 ],
 "metadata": {
  "kernelspec": {
   "display_name": "Python 3",
   "language": "python",
   "name": "python3"
  },
  "language_info": {
   "codemirror_mode": {
    "name": "ipython",
    "version": 3
   },
   "file_extension": ".py",
   "mimetype": "text/x-python",
   "name": "python",
   "nbconvert_exporter": "python",
   "pygments_lexer": "ipython3",
   "version": "3.10.12"
  }
 },
 "nbformat": 4,
 "nbformat_minor": 2
}
