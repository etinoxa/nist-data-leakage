{
 "cells": [
  {
   "cell_type": "code",
   "execution_count": 1,
   "metadata": {},
   "outputs": [],
   "source": [
    "software_registry_path = \"/home/etinoxa/PycharmProjects/forensic-lab/working_files/registry/SOFTWARE\""
   ]
  },
  {
   "cell_type": "code",
   "execution_count": 2,
   "metadata": {},
   "outputs": [
    {
     "name": "stdout",
     "output_type": "stream",
     "text": [
      "LastLoggedOnUser = .\\informant\n",
      "LastLoggedOnSAMUser = informant-PC\\informant\n"
     ]
    }
   ],
   "source": [
    "from regipy import RegistryHive\n",
    "import argparse\n",
    "\n",
    "# Get Last Logged On User\n",
    "\n",
    "# hive_path = \"../working_files/registry/SOFTWARE\"\n",
    "# Execution = python .\\scripts\\get_lastloggedon_user.py .\\working_files\\registry\\SOFTWARE\n",
    "def get_last_logged_on_user(hive_path):\n",
    "    key_path = r\"\\Microsoft\\Windows\\CurrentVersion\\Authentication\\LogonUI\"\n",
    "\n",
    "    # Load the hive\n",
    "    registry_hive = RegistryHive(hive_path)\n",
    "\n",
    "    key = registry_hive.get_key(key_path)\n",
    "    try:\n",
    "        last_logged_on_user = key.get_value('LastLoggedOnUser')\n",
    "        last_logged_on_sam_user = key.get_value('LastLoggedOnSAMUser')\n",
    "\n",
    "        print(f\"LastLoggedOnUser = {last_logged_on_user}\")\n",
    "        print(f\"LastLoggedOnSAMUser = {last_logged_on_sam_user}\")\n",
    "\n",
    "    except FileNotFoundError:\n",
    "        print(\"Key or value not found in the registry\")\n",
    "    except PermissionError:\n",
    "        print(\"Permission denied. Please run the script with elevated privileges.\")\n",
    "\n",
    "\n",
    "\n",
    "if __name__ == \"__main__\":\n",
    "    get_last_logged_on_user(software_registry_path)\n"
   ]
  }
 ],
 "metadata": {
  "kernelspec": {
   "display_name": "Python 3",
   "language": "python",
   "name": "python3"
  },
  "language_info": {
   "codemirror_mode": {
    "name": "ipython",
    "version": 3
   },
   "file_extension": ".py",
   "mimetype": "text/x-python",
   "name": "python",
   "nbconvert_exporter": "python",
   "pygments_lexer": "ipython3",
   "version": "3.10.12"
  }
 },
 "nbformat": 4,
 "nbformat_minor": 2
}
