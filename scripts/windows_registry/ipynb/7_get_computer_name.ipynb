{
 "cells": [
  {
   "cell_type": "code",
   "execution_count": 2,
   "metadata": {},
   "outputs": [],
   "source": [
    "system_registry_path = \"/home/etinoxa/PycharmProjects/forensic-lab/working_files/registry/SYSTEM\""
   ]
  },
  {
   "cell_type": "code",
   "execution_count": 3,
   "metadata": {},
   "outputs": [
    {
     "name": "stdout",
     "output_type": "stream",
     "text": [
      "Computer Name: INFORMANT-PC\n",
      "Hostname: informant-PC\n"
     ]
    }
   ],
   "source": [
    "import argparse\n",
    "from regipy import RegistryHive\n",
    "from regipy.exceptions import RegistryKeyNotFoundException\n",
    "from datetime import datetime\n",
    "\n",
    "# Replace this path with the actual path to your SYSTEM hive file\n",
    "# hive_path = '../working_files/registry/SYSTEM'\n",
    "\n",
    "def get_computer_name(hive_path):\n",
    "    # Load the hive\n",
    "    registry_hive = RegistryHive(hive_path)\n",
    "\n",
    "    try:\n",
    "        computer_key = registry_hive.get_key('\\ControlSet001\\Control\\ComputerName\\ComputerName')\n",
    "        computer_name = computer_key.get_value('ComputerName')\n",
    "        print('Computer Name:', computer_name)\n",
    "    except RegistryKeyNotFoundException:\n",
    "        print('Computer name key not found')\n",
    "\n",
    "    try:\n",
    "        network_key = registry_hive.get_key('\\ControlSet001\\\\Services\\\\Tcpip\\\\Parameters')\n",
    "        hostname = network_key.get_value('Hostname')\n",
    "        print('Hostname:', hostname)\n",
    "    except RegistryKeyNotFoundException:\n",
    "        print('Hostname key not found')\n",
    "\n",
    "if __name__ == \"__main__\":\n",
    "    get_computer_name(system_registry_path)\n"
   ]
  }
 ],
 "metadata": {
  "kernelspec": {
   "display_name": "Python 3",
   "language": "python",
   "name": "python3"
  },
  "language_info": {
   "codemirror_mode": {
    "name": "ipython",
    "version": 3
   },
   "file_extension": ".py",
   "mimetype": "text/x-python",
   "name": "python",
   "nbconvert_exporter": "python",
   "pygments_lexer": "ipython3",
   "version": "3.10.12"
  }
 },
 "nbformat": 4,
 "nbformat_minor": 2
}
