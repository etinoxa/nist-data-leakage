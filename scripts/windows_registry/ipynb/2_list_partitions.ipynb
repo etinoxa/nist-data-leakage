{
 "cells": [
  {
   "cell_type": "code",
   "execution_count": 1,
   "metadata": {},
   "outputs": [],
   "source": [
    "dd_image_path = \"/home/etinoxa/PycharmProjects/forensic-lab/cfreds_2015_data_leakage_pc.dd\"\n",
    "dd_image_offset = 206848"
   ]
  },
  {
   "cell_type": "code",
   "execution_count": 2,
   "metadata": {},
   "outputs": [
    {
     "name": "stdout",
     "output_type": "stream",
     "text": [
      "Partition: 0\n",
      "Description: b'Primary Table (#0)'\n",
      "Start sector: 0\n",
      "Length: 1\n",
      "\n",
      "Partition: 1\n",
      "Description: b'Unallocated'\n",
      "Start sector: 0\n",
      "Length: 2048\n",
      "\n",
      "Partition: 2\n",
      "Description: b'NTFS / exFAT (0x07)'\n",
      "Start sector: 2048\n",
      "Length: 204800\n",
      "\n",
      "Partition: 3\n",
      "Description: b'NTFS / exFAT (0x07)'\n",
      "Start sector: 206848\n",
      "Length: 41734144\n",
      "\n",
      "Partition: 4\n",
      "Description: b'Unallocated'\n",
      "Start sector: 41940992\n",
      "Length: 2048\n",
      "\n"
     ]
    }
   ],
   "source": [
    "import sys\n",
    "import pytsk3\n",
    "\n",
    "# \n",
    "# Get the name of the disk image from command line argument\n",
    "# image_filename = sys.argv[1]\n",
    "\n",
    "\n",
    "image_filename = dd_image_path\n",
    "\n",
    "# Create an Img_Info object to represent the image file\n",
    "disk_image = pytsk3.Img_Info(image_filename)\n",
    "\n",
    "# Create a Volume_Info object to access the partitions\n",
    "volume_info = pytsk3.Volume_Info(disk_image)\n",
    "\n",
    "# Loop through each partition and print its attributes\n",
    "for partition in volume_info:\n",
    "    print(\"Partition:\", partition.addr)\n",
    "    print(\"Description:\", partition.desc)\n",
    "    print(\"Start sector:\", partition.start)\n",
    "    print(\"Length:\", partition.len)\n",
    "    print()"
   ]
  },
  {
   "cell_type": "code",
   "execution_count": null,
   "metadata": {},
   "outputs": [],
   "source": []
  }
 ],
 "metadata": {
  "kernelspec": {
   "display_name": "Python 3",
   "language": "python",
   "name": "python3"
  },
  "language_info": {
   "codemirror_mode": {
    "name": "ipython",
    "version": 3
   },
   "file_extension": ".py",
   "mimetype": "text/x-python",
   "name": "python",
   "nbconvert_exporter": "python",
   "pygments_lexer": "ipython3",
   "version": "3.10.12"
  }
 },
 "nbformat": 4,
 "nbformat_minor": 2
}
